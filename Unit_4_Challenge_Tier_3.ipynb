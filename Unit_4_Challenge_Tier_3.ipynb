{
 "cells": [
  {
   "cell_type": "markdown",
   "metadata": {
    "colab_type": "text",
    "id": "Tia3MP1SJpgj"
   },
   "source": [
    "# Springboard Data Science Career Track Unit 4 Challenge - Tier 3 Complete\n",
    "\n",
    "## Objectives\n",
    "Hey! Great job getting through those challenging DataCamp courses. You're learning a lot in a short span of time. \n",
    "\n",
    "In this notebook, you're going to apply the skills you've been learning, bridging the gap between the controlled environment of DataCamp and the *slightly* messier work that data scientists do with actual datasets!\n",
    "\n",
    "Here’s the mystery we’re going to solve: ***which boroughs of London have seen the greatest increase in housing prices, on average, over the last two decades?***\n",
    "\n",
    "\n",
    "A borough is just a fancy word for district. You may be familiar with the five boroughs of New York… well, there are 32 boroughs within Greater London [(here's some info for the curious)](https://en.wikipedia.org/wiki/London_boroughs). Some of them are more desirable areas to live in, and the data will reflect that with a greater rise in housing prices.\n",
    "\n",
    "***This is the Tier 3 notebook, which means it's not filled in at all: we'll just give you the skeleton of a project, the brief and the data. It's up to you to play around with it and see what you can find out! Good luck! If you struggle, feel free to look at easier tiers for help; but try to dip in and out of them, as the more independent work you do, the better it is for your learning!***\n",
    "\n",
    "This challenge will make use of only what you learned in the following DataCamp courses: \n",
    "- Prework courses (Introduction to Python for Data Science, Intermediate Python for Data Science)\n",
    "- Data Types for Data Science\n",
    "- Python Data Science Toolbox (Part One) \n",
    "- pandas Foundations\n",
    "- Manipulating DataFrames with pandas\n",
    "- Merging DataFrames with pandas\n",
    "\n",
    "Of the tools, techniques and concepts in the above DataCamp courses, this challenge should require the application of the following: \n",
    "- **pandas**\n",
    "    - **data ingestion and inspection** (pandas Foundations, Module One) \n",
    "    - **exploratory data analysis** (pandas Foundations, Module Two)\n",
    "    - **tidying and cleaning** (Manipulating DataFrames with pandas, Module Three) \n",
    "    - **transforming DataFrames** (Manipulating DataFrames with pandas, Module One)\n",
    "    - **subsetting DataFrames with lists** (Manipulating DataFrames with pandas, Module One) \n",
    "    - **filtering DataFrames** (Manipulating DataFrames with pandas, Module One) \n",
    "    - **grouping data** (Manipulating DataFrames with pandas, Module Four) \n",
    "    - **melting data** (Manipulating DataFrames with pandas, Module Three) \n",
    "    - **advanced indexing** (Manipulating DataFrames with pandas, Module Four) \n",
    "- **matplotlib** (Intermediate Python for Data Science, Module One)\n",
    "- **fundamental data types** (Data Types for Data Science, Module One) \n",
    "- **dictionaries** (Intermediate Python for Data Science, Module Two)\n",
    "- **handling dates and times** (Data Types for Data Science, Module Four)\n",
    "- **function definition** (Python Data Science Toolbox - Part One, Module One)\n",
    "- **default arguments, variable length, and scope** (Python Data Science Toolbox - Part One, Module Two) \n",
    "- **lambda functions and error handling** (Python Data Science Toolbox - Part One, Module Four) "
   ]
  },
  {
   "cell_type": "markdown",
   "metadata": {
    "colab_type": "text",
    "id": "Ipgd2nV8Jpgl"
   },
   "source": [
    "## The Data Science Pipeline\n",
    "\n",
    "This is Tier Three, so we'll get you started. But after that, it's all in your hands! When you feel done with your investigations, look back over what you've accomplished, and prepare a quick presentation of your findings for the next mentor meeting. \n",
    "\n",
    "Data Science is magical. In this case study, you'll get to apply some complex machine learning algorithms. But as  [David Spiegelhalter](https://www.youtube.com/watch?v=oUs1uvsz0Ok) reminds us, there is no substitute for simply **taking a really, really good look at the data.** Sometimes, this is all we need to answer our question.\n",
    "\n",
    "Data Science projects generally adhere to the four stages of Data Science Pipeline:\n",
    "1. Sourcing and loading \n",
    "2. Cleaning, transforming, and visualizing \n",
    "3. Modeling \n",
    "4. Evaluating and concluding \n"
   ]
  },
  {
   "cell_type": "markdown",
   "metadata": {
    "colab_type": "text",
    "id": "zswDqbefJpgm"
   },
   "source": [
    "### 1. Sourcing and Loading \n",
    "\n",
    "Any Data Science project kicks off by importing  ***pandas***. The documentation of this wonderful library can be found [here](https://pandas.pydata.org/). As you've seen, pandas is conveniently connected to the [Numpy](http://www.numpy.org/) and [Matplotlib](https://matplotlib.org/) libraries. \n",
    "\n",
    "***Hint:*** This part of the data science pipeline will test those skills you acquired in the pandas Foundations course, Module One. "
   ]
  },
  {
   "cell_type": "markdown",
   "metadata": {
    "colab_type": "text",
    "id": "aEau5nEvJpgm"
   },
   "source": [
    "#### 1.1. Importing Libraries"
   ]
  },
  {
   "cell_type": "code",
   "execution_count": 1,
   "metadata": {
    "colab": {},
    "colab_type": "code",
    "id": "7Bt_Q_oPJpgn"
   },
   "outputs": [],
   "source": [
    "# Let's import the pandas, numpy libraries as pd, and np respectively. \n",
    "import pandas as pd\n",
    "import numpy as np\n",
    "\n",
    "# Load the pyplot collection of functions from matplotlib, as plt \n",
    "import matplotlib.pyplot as plt"
   ]
  },
  {
   "cell_type": "markdown",
   "metadata": {
    "colab_type": "text",
    "id": "koUrawxsJpgq"
   },
   "source": [
    "#### 1.2.  Loading the data\n",
    "Your data comes from the [London Datastore](https://data.london.gov.uk/): a free, open-source data-sharing portal for London-oriented datasets. "
   ]
  },
  {
   "cell_type": "code",
   "execution_count": 2,
   "metadata": {
    "colab": {},
    "colab_type": "code",
    "id": "AiLiD4v3Jpgr"
   },
   "outputs": [],
   "source": [
    "# First, make a variable called url_LondonHousePrices, and assign it the following link, enclosed in quotation-marks as a string:\n",
    "# https://data.london.gov.uk/download/uk-house-price-index/70ac0766-8902-4eb5-aab5-01951aaed773/UK%20House%20price%20index.xls\n",
    "\n",
    "url_LondonHousePrices = \"https://data.london.gov.uk/download/uk-house-price-index/70ac0766-8902-4eb5-aab5-01951aaed773/UK%20House%20price%20index.xls\"\n",
    "\n",
    "# The dataset we're interested in contains the Average prices of the houses, and is actually on a particular sheet of the Excel file. \n",
    "# As a result, we need to specify the sheet name in the read_excel() method.\n",
    "# Put this data into a variable called properties.  \n",
    "properties = pd.read_excel(url_LondonHousePrices, sheet_name='Average price', index_col= None)"
   ]
  },
  {
   "cell_type": "markdown",
   "metadata": {
    "colab_type": "text",
    "id": "POukEJXgJpgu"
   },
   "source": [
    "### 2. Cleaning, transforming, and visualizing\n",
    "This second stage is arguably the most important part of any Data Science project. The first thing to do is take a proper look at the data. Cleaning forms the majority of this stage, and can be done both before or after Transformation.\n",
    "\n",
    "The end goal of data cleaning is to have tidy data. When data is tidy: \n",
    "\n",
    "1. Each variable has a column.\n",
    "2. Each observation forms a row.\n",
    "\n",
    "Keep the end goal in mind as you move through this process, every step will take you closer. \n",
    "\n",
    "\n",
    "\n",
    "***Hint:*** This part of the data science pipeline should test those skills you acquired in: \n",
    "- Intermediate Python for data science, all modules.\n",
    "- pandas Foundations, all modules. \n",
    "- Manipulating DataFrames with pandas, all modules.\n",
    "- Data Types for Data Science, Module Four.\n",
    "- Python Data Science Toolbox - Part One, all modules"
   ]
  },
  {
   "cell_type": "markdown",
   "metadata": {
    "colab_type": "text",
    "id": "Te0Q548tnzZa"
   },
   "source": [
    "**2.1. Exploring your data** \n",
    "\n",
    "Think about your pandas functions for checking out a dataframe. "
   ]
  },
  {
   "cell_type": "code",
   "execution_count": 3,
   "metadata": {},
   "outputs": [
    {
     "data": {
      "text/plain": [
       "(354, 49)"
      ]
     },
     "execution_count": 3,
     "metadata": {},
     "output_type": "execute_result"
    }
   ],
   "source": [
    "properties.shape"
   ]
  },
  {
   "cell_type": "code",
   "execution_count": 4,
   "metadata": {
    "colab": {},
    "colab_type": "code",
    "id": "Rxirxw_qoAJa"
   },
   "outputs": [
    {
     "data": {
      "text/html": [
       "<div>\n",
       "<style scoped>\n",
       "    .dataframe tbody tr th:only-of-type {\n",
       "        vertical-align: middle;\n",
       "    }\n",
       "\n",
       "    .dataframe tbody tr th {\n",
       "        vertical-align: top;\n",
       "    }\n",
       "\n",
       "    .dataframe thead th {\n",
       "        text-align: right;\n",
       "    }\n",
       "</style>\n",
       "<table border=\"1\" class=\"dataframe\">\n",
       "  <thead>\n",
       "    <tr style=\"text-align: right;\">\n",
       "      <th></th>\n",
       "      <th>Unnamed: 0</th>\n",
       "      <th>City of London</th>\n",
       "      <th>Barking &amp; Dagenham</th>\n",
       "      <th>Barnet</th>\n",
       "      <th>Bexley</th>\n",
       "      <th>Brent</th>\n",
       "      <th>Bromley</th>\n",
       "      <th>Camden</th>\n",
       "      <th>Croydon</th>\n",
       "      <th>Ealing</th>\n",
       "      <th>...</th>\n",
       "      <th>NORTH WEST</th>\n",
       "      <th>YORKS &amp; THE HUMBER</th>\n",
       "      <th>EAST MIDLANDS</th>\n",
       "      <th>WEST MIDLANDS</th>\n",
       "      <th>EAST OF ENGLAND</th>\n",
       "      <th>LONDON</th>\n",
       "      <th>SOUTH EAST</th>\n",
       "      <th>SOUTH WEST</th>\n",
       "      <th>Unnamed: 47</th>\n",
       "      <th>England</th>\n",
       "    </tr>\n",
       "  </thead>\n",
       "  <tbody>\n",
       "    <tr>\n",
       "      <th>0</th>\n",
       "      <td>NaT</td>\n",
       "      <td>E09000001</td>\n",
       "      <td>E09000002</td>\n",
       "      <td>E09000003</td>\n",
       "      <td>E09000004</td>\n",
       "      <td>E09000005</td>\n",
       "      <td>E09000006</td>\n",
       "      <td>E09000007</td>\n",
       "      <td>E09000008</td>\n",
       "      <td>E09000009</td>\n",
       "      <td>...</td>\n",
       "      <td>E12000002</td>\n",
       "      <td>E12000003</td>\n",
       "      <td>E12000004</td>\n",
       "      <td>E12000005</td>\n",
       "      <td>E12000006</td>\n",
       "      <td>E12000007</td>\n",
       "      <td>E12000008</td>\n",
       "      <td>E12000009</td>\n",
       "      <td>NaN</td>\n",
       "      <td>E92000001</td>\n",
       "    </tr>\n",
       "    <tr>\n",
       "      <th>1</th>\n",
       "      <td>1995-01-01</td>\n",
       "      <td>91448.98487</td>\n",
       "      <td>50460.2266</td>\n",
       "      <td>93284.51832</td>\n",
       "      <td>64958.09036</td>\n",
       "      <td>71306.56698</td>\n",
       "      <td>81671.47692</td>\n",
       "      <td>120932.8881</td>\n",
       "      <td>69158.16225</td>\n",
       "      <td>79885.89069</td>\n",
       "      <td>...</td>\n",
       "      <td>43958.48001</td>\n",
       "      <td>44803.42878</td>\n",
       "      <td>45544.52227</td>\n",
       "      <td>48527.52339</td>\n",
       "      <td>56701.5961</td>\n",
       "      <td>74435.76052</td>\n",
       "      <td>64018.87894</td>\n",
       "      <td>54705.1579</td>\n",
       "      <td>NaN</td>\n",
       "      <td>53202.77128</td>\n",
       "    </tr>\n",
       "    <tr>\n",
       "      <th>2</th>\n",
       "      <td>1995-02-01</td>\n",
       "      <td>82202.77314</td>\n",
       "      <td>51085.77983</td>\n",
       "      <td>93190.16963</td>\n",
       "      <td>64787.92069</td>\n",
       "      <td>72022.26197</td>\n",
       "      <td>81657.55944</td>\n",
       "      <td>119508.8622</td>\n",
       "      <td>68951.09542</td>\n",
       "      <td>80897.06551</td>\n",
       "      <td>...</td>\n",
       "      <td>43925.42289</td>\n",
       "      <td>44528.80721</td>\n",
       "      <td>46051.57066</td>\n",
       "      <td>49341.29029</td>\n",
       "      <td>56593.59475</td>\n",
       "      <td>72777.93709</td>\n",
       "      <td>63715.02399</td>\n",
       "      <td>54356.14843</td>\n",
       "      <td>NaN</td>\n",
       "      <td>53096.1549</td>\n",
       "    </tr>\n",
       "    <tr>\n",
       "      <th>3</th>\n",
       "      <td>1995-03-01</td>\n",
       "      <td>79120.70256</td>\n",
       "      <td>51268.96956</td>\n",
       "      <td>92247.52435</td>\n",
       "      <td>64367.49344</td>\n",
       "      <td>72015.76274</td>\n",
       "      <td>81449.31143</td>\n",
       "      <td>120282.2131</td>\n",
       "      <td>68712.44341</td>\n",
       "      <td>81379.86288</td>\n",
       "      <td>...</td>\n",
       "      <td>44434.8681</td>\n",
       "      <td>45200.46775</td>\n",
       "      <td>45383.82395</td>\n",
       "      <td>49442.17973</td>\n",
       "      <td>56171.18278</td>\n",
       "      <td>73896.84204</td>\n",
       "      <td>64113.60858</td>\n",
       "      <td>53583.07667</td>\n",
       "      <td>NaN</td>\n",
       "      <td>53201.2843</td>\n",
       "    </tr>\n",
       "    <tr>\n",
       "      <th>4</th>\n",
       "      <td>1995-04-01</td>\n",
       "      <td>77101.20804</td>\n",
       "      <td>53133.50526</td>\n",
       "      <td>90762.87492</td>\n",
       "      <td>64277.66881</td>\n",
       "      <td>72965.63094</td>\n",
       "      <td>81124.41227</td>\n",
       "      <td>120097.899</td>\n",
       "      <td>68610.04641</td>\n",
       "      <td>82188.90498</td>\n",
       "      <td>...</td>\n",
       "      <td>44267.7796</td>\n",
       "      <td>45614.34341</td>\n",
       "      <td>46124.23045</td>\n",
       "      <td>49455.93299</td>\n",
       "      <td>56567.89582</td>\n",
       "      <td>74455.28754</td>\n",
       "      <td>64623.22395</td>\n",
       "      <td>54786.01938</td>\n",
       "      <td>NaN</td>\n",
       "      <td>53590.8548</td>\n",
       "    </tr>\n",
       "  </tbody>\n",
       "</table>\n",
       "<p>5 rows × 49 columns</p>\n",
       "</div>"
      ],
      "text/plain": [
       "  Unnamed: 0 City of London Barking & Dagenham       Barnet       Bexley  \\\n",
       "0        NaT      E09000001          E09000002    E09000003    E09000004   \n",
       "1 1995-01-01    91448.98487         50460.2266  93284.51832  64958.09036   \n",
       "2 1995-02-01    82202.77314        51085.77983  93190.16963  64787.92069   \n",
       "3 1995-03-01    79120.70256        51268.96956  92247.52435  64367.49344   \n",
       "4 1995-04-01    77101.20804        53133.50526  90762.87492  64277.66881   \n",
       "\n",
       "         Brent      Bromley       Camden      Croydon       Ealing  ...  \\\n",
       "0    E09000005    E09000006    E09000007    E09000008    E09000009  ...   \n",
       "1  71306.56698  81671.47692  120932.8881  69158.16225  79885.89069  ...   \n",
       "2  72022.26197  81657.55944  119508.8622  68951.09542  80897.06551  ...   \n",
       "3  72015.76274  81449.31143  120282.2131  68712.44341  81379.86288  ...   \n",
       "4  72965.63094  81124.41227   120097.899  68610.04641  82188.90498  ...   \n",
       "\n",
       "    NORTH WEST YORKS & THE HUMBER EAST MIDLANDS WEST MIDLANDS EAST OF ENGLAND  \\\n",
       "0    E12000002          E12000003     E12000004     E12000005       E12000006   \n",
       "1  43958.48001        44803.42878   45544.52227   48527.52339      56701.5961   \n",
       "2  43925.42289        44528.80721   46051.57066   49341.29029     56593.59475   \n",
       "3   44434.8681        45200.46775   45383.82395   49442.17973     56171.18278   \n",
       "4   44267.7796        45614.34341   46124.23045   49455.93299     56567.89582   \n",
       "\n",
       "        LONDON   SOUTH EAST   SOUTH WEST Unnamed: 47      England  \n",
       "0    E12000007    E12000008    E12000009         NaN    E92000001  \n",
       "1  74435.76052  64018.87894   54705.1579         NaN  53202.77128  \n",
       "2  72777.93709  63715.02399  54356.14843         NaN   53096.1549  \n",
       "3  73896.84204  64113.60858  53583.07667         NaN   53201.2843  \n",
       "4  74455.28754  64623.22395  54786.01938         NaN   53590.8548  \n",
       "\n",
       "[5 rows x 49 columns]"
      ]
     },
     "execution_count": 4,
     "metadata": {},
     "output_type": "execute_result"
    }
   ],
   "source": [
    "properties.head()"
   ]
  },
  {
   "cell_type": "markdown",
   "metadata": {
    "colab_type": "text",
    "id": "tE9Sqt9-oAta"
   },
   "source": [
    "**2.2. Cleaning the data**\n",
    "\n",
    "You might find you need to transpose your dataframe, check out what its row indexes are, and reset the index. You  also might find you need to assign the values of the first row to your column headings  . (Hint: recall the .columns feature of DataFrames, as well as the iloc[] method).\n",
    "\n",
    "Don't be afraid to use StackOverflow for help  with this."
   ]
  },
  {
   "cell_type": "code",
   "execution_count": 5,
   "metadata": {},
   "outputs": [],
   "source": [
    "properties_T = properties.T"
   ]
  },
  {
   "cell_type": "code",
   "execution_count": 6,
   "metadata": {},
   "outputs": [
    {
     "data": {
      "text/html": [
       "<div>\n",
       "<style scoped>\n",
       "    .dataframe tbody tr th:only-of-type {\n",
       "        vertical-align: middle;\n",
       "    }\n",
       "\n",
       "    .dataframe tbody tr th {\n",
       "        vertical-align: top;\n",
       "    }\n",
       "\n",
       "    .dataframe thead th {\n",
       "        text-align: right;\n",
       "    }\n",
       "</style>\n",
       "<table border=\"1\" class=\"dataframe\">\n",
       "  <thead>\n",
       "    <tr style=\"text-align: right;\">\n",
       "      <th></th>\n",
       "      <th>0</th>\n",
       "      <th>1</th>\n",
       "      <th>2</th>\n",
       "      <th>3</th>\n",
       "      <th>4</th>\n",
       "      <th>5</th>\n",
       "      <th>6</th>\n",
       "      <th>7</th>\n",
       "      <th>8</th>\n",
       "      <th>9</th>\n",
       "      <th>...</th>\n",
       "      <th>344</th>\n",
       "      <th>345</th>\n",
       "      <th>346</th>\n",
       "      <th>347</th>\n",
       "      <th>348</th>\n",
       "      <th>349</th>\n",
       "      <th>350</th>\n",
       "      <th>351</th>\n",
       "      <th>352</th>\n",
       "      <th>353</th>\n",
       "    </tr>\n",
       "  </thead>\n",
       "  <tbody>\n",
       "    <tr>\n",
       "      <th>Unnamed: 0</th>\n",
       "      <td>NaT</td>\n",
       "      <td>1995-01-01 00:00:00</td>\n",
       "      <td>1995-02-01 00:00:00</td>\n",
       "      <td>1995-03-01 00:00:00</td>\n",
       "      <td>1995-04-01 00:00:00</td>\n",
       "      <td>1995-05-01 00:00:00</td>\n",
       "      <td>1995-06-01 00:00:00</td>\n",
       "      <td>1995-07-01 00:00:00</td>\n",
       "      <td>1995-08-01 00:00:00</td>\n",
       "      <td>1995-09-01 00:00:00</td>\n",
       "      <td>...</td>\n",
       "      <td>2023-08-01 00:00:00</td>\n",
       "      <td>2023-09-01 00:00:00</td>\n",
       "      <td>2023-10-01 00:00:00</td>\n",
       "      <td>2023-11-01 00:00:00</td>\n",
       "      <td>2023-12-01 00:00:00</td>\n",
       "      <td>2024-01-01 00:00:00</td>\n",
       "      <td>2024-02-01 00:00:00</td>\n",
       "      <td>2024-03-01 00:00:00</td>\n",
       "      <td>2024-04-01 00:00:00</td>\n",
       "      <td>2024-05-01 00:00:00</td>\n",
       "    </tr>\n",
       "    <tr>\n",
       "      <th>City of London</th>\n",
       "      <td>E09000001</td>\n",
       "      <td>91448.98487</td>\n",
       "      <td>82202.77314</td>\n",
       "      <td>79120.70256</td>\n",
       "      <td>77101.20804</td>\n",
       "      <td>84409.14932</td>\n",
       "      <td>94900.51244</td>\n",
       "      <td>110128.0423</td>\n",
       "      <td>112329.4376</td>\n",
       "      <td>104473.1096</td>\n",
       "      <td>...</td>\n",
       "      <td>991377</td>\n",
       "      <td>938351</td>\n",
       "      <td>878376</td>\n",
       "      <td>853910</td>\n",
       "      <td>812845</td>\n",
       "      <td>827858</td>\n",
       "      <td>847724</td>\n",
       "      <td>810163</td>\n",
       "      <td>794367</td>\n",
       "      <td>819967</td>\n",
       "    </tr>\n",
       "    <tr>\n",
       "      <th>Barking &amp; Dagenham</th>\n",
       "      <td>E09000002</td>\n",
       "      <td>50460.2266</td>\n",
       "      <td>51085.77983</td>\n",
       "      <td>51268.96956</td>\n",
       "      <td>53133.50526</td>\n",
       "      <td>53042.24852</td>\n",
       "      <td>53700.34831</td>\n",
       "      <td>52113.12157</td>\n",
       "      <td>52232.19868</td>\n",
       "      <td>51471.61353</td>\n",
       "      <td>...</td>\n",
       "      <td>339478</td>\n",
       "      <td>337277</td>\n",
       "      <td>337710</td>\n",
       "      <td>341336</td>\n",
       "      <td>339887</td>\n",
       "      <td>334017</td>\n",
       "      <td>329495</td>\n",
       "      <td>335733</td>\n",
       "      <td>337776</td>\n",
       "      <td>337753</td>\n",
       "    </tr>\n",
       "    <tr>\n",
       "      <th>Barnet</th>\n",
       "      <td>E09000003</td>\n",
       "      <td>93284.51832</td>\n",
       "      <td>93190.16963</td>\n",
       "      <td>92247.52435</td>\n",
       "      <td>90762.87492</td>\n",
       "      <td>90258.00033</td>\n",
       "      <td>90107.23471</td>\n",
       "      <td>91441.24768</td>\n",
       "      <td>92361.31512</td>\n",
       "      <td>93273.12245</td>\n",
       "      <td>...</td>\n",
       "      <td>594359</td>\n",
       "      <td>591378</td>\n",
       "      <td>581452</td>\n",
       "      <td>582478</td>\n",
       "      <td>581937</td>\n",
       "      <td>581503</td>\n",
       "      <td>569346</td>\n",
       "      <td>576147</td>\n",
       "      <td>573439</td>\n",
       "      <td>583534</td>\n",
       "    </tr>\n",
       "    <tr>\n",
       "      <th>Bexley</th>\n",
       "      <td>E09000004</td>\n",
       "      <td>64958.09036</td>\n",
       "      <td>64787.92069</td>\n",
       "      <td>64367.49344</td>\n",
       "      <td>64277.66881</td>\n",
       "      <td>63997.13588</td>\n",
       "      <td>64252.32335</td>\n",
       "      <td>63722.70055</td>\n",
       "      <td>64432.60005</td>\n",
       "      <td>64509.54767</td>\n",
       "      <td>...</td>\n",
       "      <td>397570</td>\n",
       "      <td>398394</td>\n",
       "      <td>393683</td>\n",
       "      <td>397405</td>\n",
       "      <td>393852</td>\n",
       "      <td>396432</td>\n",
       "      <td>397368</td>\n",
       "      <td>400591</td>\n",
       "      <td>405096</td>\n",
       "      <td>409364</td>\n",
       "    </tr>\n",
       "  </tbody>\n",
       "</table>\n",
       "<p>5 rows × 354 columns</p>\n",
       "</div>"
      ],
      "text/plain": [
       "                          0                    1                    2    \\\n",
       "Unnamed: 0                NaT  1995-01-01 00:00:00  1995-02-01 00:00:00   \n",
       "City of London      E09000001          91448.98487          82202.77314   \n",
       "Barking & Dagenham  E09000002           50460.2266          51085.77983   \n",
       "Barnet              E09000003          93284.51832          93190.16963   \n",
       "Bexley              E09000004          64958.09036          64787.92069   \n",
       "\n",
       "                                    3                    4    \\\n",
       "Unnamed: 0          1995-03-01 00:00:00  1995-04-01 00:00:00   \n",
       "City of London              79120.70256          77101.20804   \n",
       "Barking & Dagenham          51268.96956          53133.50526   \n",
       "Barnet                      92247.52435          90762.87492   \n",
       "Bexley                      64367.49344          64277.66881   \n",
       "\n",
       "                                    5                    6    \\\n",
       "Unnamed: 0          1995-05-01 00:00:00  1995-06-01 00:00:00   \n",
       "City of London              84409.14932          94900.51244   \n",
       "Barking & Dagenham          53042.24852          53700.34831   \n",
       "Barnet                      90258.00033          90107.23471   \n",
       "Bexley                      63997.13588          64252.32335   \n",
       "\n",
       "                                    7                    8    \\\n",
       "Unnamed: 0          1995-07-01 00:00:00  1995-08-01 00:00:00   \n",
       "City of London              110128.0423          112329.4376   \n",
       "Barking & Dagenham          52113.12157          52232.19868   \n",
       "Barnet                      91441.24768          92361.31512   \n",
       "Bexley                      63722.70055          64432.60005   \n",
       "\n",
       "                                    9    ...                  344  \\\n",
       "Unnamed: 0          1995-09-01 00:00:00  ...  2023-08-01 00:00:00   \n",
       "City of London              104473.1096  ...               991377   \n",
       "Barking & Dagenham          51471.61353  ...               339478   \n",
       "Barnet                      93273.12245  ...               594359   \n",
       "Bexley                      64509.54767  ...               397570   \n",
       "\n",
       "                                    345                  346  \\\n",
       "Unnamed: 0          2023-09-01 00:00:00  2023-10-01 00:00:00   \n",
       "City of London                   938351               878376   \n",
       "Barking & Dagenham               337277               337710   \n",
       "Barnet                           591378               581452   \n",
       "Bexley                           398394               393683   \n",
       "\n",
       "                                    347                  348  \\\n",
       "Unnamed: 0          2023-11-01 00:00:00  2023-12-01 00:00:00   \n",
       "City of London                   853910               812845   \n",
       "Barking & Dagenham               341336               339887   \n",
       "Barnet                           582478               581937   \n",
       "Bexley                           397405               393852   \n",
       "\n",
       "                                    349                  350  \\\n",
       "Unnamed: 0          2024-01-01 00:00:00  2024-02-01 00:00:00   \n",
       "City of London                   827858               847724   \n",
       "Barking & Dagenham               334017               329495   \n",
       "Barnet                           581503               569346   \n",
       "Bexley                           396432               397368   \n",
       "\n",
       "                                    351                  352  \\\n",
       "Unnamed: 0          2024-03-01 00:00:00  2024-04-01 00:00:00   \n",
       "City of London                   810163               794367   \n",
       "Barking & Dagenham               335733               337776   \n",
       "Barnet                           576147               573439   \n",
       "Bexley                           400591               405096   \n",
       "\n",
       "                                    353  \n",
       "Unnamed: 0          2024-05-01 00:00:00  \n",
       "City of London                   819967  \n",
       "Barking & Dagenham               337753  \n",
       "Barnet                           583534  \n",
       "Bexley                           409364  \n",
       "\n",
       "[5 rows x 354 columns]"
      ]
     },
     "execution_count": 6,
     "metadata": {},
     "output_type": "execute_result"
    }
   ],
   "source": [
    "properties_T.head()"
   ]
  },
  {
   "cell_type": "code",
   "execution_count": 7,
   "metadata": {},
   "outputs": [
    {
     "data": {
      "text/plain": [
       "Index(['Unnamed: 0', 'City of London', 'Barking & Dagenham', 'Barnet',\n",
       "       'Bexley', 'Brent', 'Bromley', 'Camden', 'Croydon', 'Ealing', 'Enfield',\n",
       "       'Greenwich', 'Hackney', 'Hammersmith & Fulham', 'Haringey', 'Harrow',\n",
       "       'Havering', 'Hillingdon', 'Hounslow', 'Islington',\n",
       "       'Kensington & Chelsea', 'Kingston upon Thames', 'Lambeth', 'Lewisham',\n",
       "       'Merton', 'Newham', 'Redbridge', 'Richmond upon Thames', 'Southwark',\n",
       "       'Sutton', 'Tower Hamlets', 'Waltham Forest', 'Wandsworth',\n",
       "       'Westminster', 'Unnamed: 34', 'Inner London', 'Outer London',\n",
       "       'Unnamed: 37', 'NORTH EAST', 'NORTH WEST', 'YORKS & THE HUMBER',\n",
       "       'EAST MIDLANDS', 'WEST MIDLANDS', 'EAST OF ENGLAND', 'LONDON',\n",
       "       'SOUTH EAST', 'SOUTH WEST', 'Unnamed: 47', 'England'],\n",
       "      dtype='object')"
      ]
     },
     "execution_count": 7,
     "metadata": {},
     "output_type": "execute_result"
    }
   ],
   "source": [
    "properties_T.index"
   ]
  },
  {
   "cell_type": "code",
   "execution_count": 8,
   "metadata": {},
   "outputs": [
    {
     "data": {
      "text/plain": [
       "RangeIndex(start=0, stop=49, step=1)"
      ]
     },
     "execution_count": 8,
     "metadata": {},
     "output_type": "execute_result"
    }
   ],
   "source": [
    "properties_T = properties_T.reset_index()\n",
    "properties_T.index"
   ]
  },
  {
   "cell_type": "code",
   "execution_count": 9,
   "metadata": {},
   "outputs": [
    {
     "data": {
      "text/html": [
       "<div>\n",
       "<style scoped>\n",
       "    .dataframe tbody tr th:only-of-type {\n",
       "        vertical-align: middle;\n",
       "    }\n",
       "\n",
       "    .dataframe tbody tr th {\n",
       "        vertical-align: top;\n",
       "    }\n",
       "\n",
       "    .dataframe thead th {\n",
       "        text-align: right;\n",
       "    }\n",
       "</style>\n",
       "<table border=\"1\" class=\"dataframe\">\n",
       "  <thead>\n",
       "    <tr style=\"text-align: right;\">\n",
       "      <th></th>\n",
       "      <th>index</th>\n",
       "      <th>0</th>\n",
       "      <th>1</th>\n",
       "      <th>2</th>\n",
       "      <th>3</th>\n",
       "      <th>4</th>\n",
       "      <th>5</th>\n",
       "      <th>6</th>\n",
       "      <th>7</th>\n",
       "      <th>8</th>\n",
       "      <th>...</th>\n",
       "      <th>344</th>\n",
       "      <th>345</th>\n",
       "      <th>346</th>\n",
       "      <th>347</th>\n",
       "      <th>348</th>\n",
       "      <th>349</th>\n",
       "      <th>350</th>\n",
       "      <th>351</th>\n",
       "      <th>352</th>\n",
       "      <th>353</th>\n",
       "    </tr>\n",
       "  </thead>\n",
       "  <tbody>\n",
       "    <tr>\n",
       "      <th>0</th>\n",
       "      <td>Unnamed: 0</td>\n",
       "      <td>NaT</td>\n",
       "      <td>1995-01-01 00:00:00</td>\n",
       "      <td>1995-02-01 00:00:00</td>\n",
       "      <td>1995-03-01 00:00:00</td>\n",
       "      <td>1995-04-01 00:00:00</td>\n",
       "      <td>1995-05-01 00:00:00</td>\n",
       "      <td>1995-06-01 00:00:00</td>\n",
       "      <td>1995-07-01 00:00:00</td>\n",
       "      <td>1995-08-01 00:00:00</td>\n",
       "      <td>...</td>\n",
       "      <td>2023-08-01 00:00:00</td>\n",
       "      <td>2023-09-01 00:00:00</td>\n",
       "      <td>2023-10-01 00:00:00</td>\n",
       "      <td>2023-11-01 00:00:00</td>\n",
       "      <td>2023-12-01 00:00:00</td>\n",
       "      <td>2024-01-01 00:00:00</td>\n",
       "      <td>2024-02-01 00:00:00</td>\n",
       "      <td>2024-03-01 00:00:00</td>\n",
       "      <td>2024-04-01 00:00:00</td>\n",
       "      <td>2024-05-01 00:00:00</td>\n",
       "    </tr>\n",
       "    <tr>\n",
       "      <th>1</th>\n",
       "      <td>City of London</td>\n",
       "      <td>E09000001</td>\n",
       "      <td>91448.98487</td>\n",
       "      <td>82202.77314</td>\n",
       "      <td>79120.70256</td>\n",
       "      <td>77101.20804</td>\n",
       "      <td>84409.14932</td>\n",
       "      <td>94900.51244</td>\n",
       "      <td>110128.0423</td>\n",
       "      <td>112329.4376</td>\n",
       "      <td>...</td>\n",
       "      <td>991377</td>\n",
       "      <td>938351</td>\n",
       "      <td>878376</td>\n",
       "      <td>853910</td>\n",
       "      <td>812845</td>\n",
       "      <td>827858</td>\n",
       "      <td>847724</td>\n",
       "      <td>810163</td>\n",
       "      <td>794367</td>\n",
       "      <td>819967</td>\n",
       "    </tr>\n",
       "    <tr>\n",
       "      <th>2</th>\n",
       "      <td>Barking &amp; Dagenham</td>\n",
       "      <td>E09000002</td>\n",
       "      <td>50460.2266</td>\n",
       "      <td>51085.77983</td>\n",
       "      <td>51268.96956</td>\n",
       "      <td>53133.50526</td>\n",
       "      <td>53042.24852</td>\n",
       "      <td>53700.34831</td>\n",
       "      <td>52113.12157</td>\n",
       "      <td>52232.19868</td>\n",
       "      <td>...</td>\n",
       "      <td>339478</td>\n",
       "      <td>337277</td>\n",
       "      <td>337710</td>\n",
       "      <td>341336</td>\n",
       "      <td>339887</td>\n",
       "      <td>334017</td>\n",
       "      <td>329495</td>\n",
       "      <td>335733</td>\n",
       "      <td>337776</td>\n",
       "      <td>337753</td>\n",
       "    </tr>\n",
       "    <tr>\n",
       "      <th>3</th>\n",
       "      <td>Barnet</td>\n",
       "      <td>E09000003</td>\n",
       "      <td>93284.51832</td>\n",
       "      <td>93190.16963</td>\n",
       "      <td>92247.52435</td>\n",
       "      <td>90762.87492</td>\n",
       "      <td>90258.00033</td>\n",
       "      <td>90107.23471</td>\n",
       "      <td>91441.24768</td>\n",
       "      <td>92361.31512</td>\n",
       "      <td>...</td>\n",
       "      <td>594359</td>\n",
       "      <td>591378</td>\n",
       "      <td>581452</td>\n",
       "      <td>582478</td>\n",
       "      <td>581937</td>\n",
       "      <td>581503</td>\n",
       "      <td>569346</td>\n",
       "      <td>576147</td>\n",
       "      <td>573439</td>\n",
       "      <td>583534</td>\n",
       "    </tr>\n",
       "    <tr>\n",
       "      <th>4</th>\n",
       "      <td>Bexley</td>\n",
       "      <td>E09000004</td>\n",
       "      <td>64958.09036</td>\n",
       "      <td>64787.92069</td>\n",
       "      <td>64367.49344</td>\n",
       "      <td>64277.66881</td>\n",
       "      <td>63997.13588</td>\n",
       "      <td>64252.32335</td>\n",
       "      <td>63722.70055</td>\n",
       "      <td>64432.60005</td>\n",
       "      <td>...</td>\n",
       "      <td>397570</td>\n",
       "      <td>398394</td>\n",
       "      <td>393683</td>\n",
       "      <td>397405</td>\n",
       "      <td>393852</td>\n",
       "      <td>396432</td>\n",
       "      <td>397368</td>\n",
       "      <td>400591</td>\n",
       "      <td>405096</td>\n",
       "      <td>409364</td>\n",
       "    </tr>\n",
       "  </tbody>\n",
       "</table>\n",
       "<p>5 rows × 355 columns</p>\n",
       "</div>"
      ],
      "text/plain": [
       "                index          0                    1                    2  \\\n",
       "0          Unnamed: 0        NaT  1995-01-01 00:00:00  1995-02-01 00:00:00   \n",
       "1      City of London  E09000001          91448.98487          82202.77314   \n",
       "2  Barking & Dagenham  E09000002           50460.2266          51085.77983   \n",
       "3              Barnet  E09000003          93284.51832          93190.16963   \n",
       "4              Bexley  E09000004          64958.09036          64787.92069   \n",
       "\n",
       "                     3                    4                    5  \\\n",
       "0  1995-03-01 00:00:00  1995-04-01 00:00:00  1995-05-01 00:00:00   \n",
       "1          79120.70256          77101.20804          84409.14932   \n",
       "2          51268.96956          53133.50526          53042.24852   \n",
       "3          92247.52435          90762.87492          90258.00033   \n",
       "4          64367.49344          64277.66881          63997.13588   \n",
       "\n",
       "                     6                    7                    8  ...  \\\n",
       "0  1995-06-01 00:00:00  1995-07-01 00:00:00  1995-08-01 00:00:00  ...   \n",
       "1          94900.51244          110128.0423          112329.4376  ...   \n",
       "2          53700.34831          52113.12157          52232.19868  ...   \n",
       "3          90107.23471          91441.24768          92361.31512  ...   \n",
       "4          64252.32335          63722.70055          64432.60005  ...   \n",
       "\n",
       "                   344                  345                  346  \\\n",
       "0  2023-08-01 00:00:00  2023-09-01 00:00:00  2023-10-01 00:00:00   \n",
       "1               991377               938351               878376   \n",
       "2               339478               337277               337710   \n",
       "3               594359               591378               581452   \n",
       "4               397570               398394               393683   \n",
       "\n",
       "                   347                  348                  349  \\\n",
       "0  2023-11-01 00:00:00  2023-12-01 00:00:00  2024-01-01 00:00:00   \n",
       "1               853910               812845               827858   \n",
       "2               341336               339887               334017   \n",
       "3               582478               581937               581503   \n",
       "4               397405               393852               396432   \n",
       "\n",
       "                   350                  351                  352  \\\n",
       "0  2024-02-01 00:00:00  2024-03-01 00:00:00  2024-04-01 00:00:00   \n",
       "1               847724               810163               794367   \n",
       "2               329495               335733               337776   \n",
       "3               569346               576147               573439   \n",
       "4               397368               400591               405096   \n",
       "\n",
       "                   353  \n",
       "0  2024-05-01 00:00:00  \n",
       "1               819967  \n",
       "2               337753  \n",
       "3               583534  \n",
       "4               409364  \n",
       "\n",
       "[5 rows x 355 columns]"
      ]
     },
     "execution_count": 9,
     "metadata": {},
     "output_type": "execute_result"
    }
   ],
   "source": [
    "properties_T.head()"
   ]
  },
  {
   "cell_type": "code",
   "execution_count": 10,
   "metadata": {},
   "outputs": [
    {
     "data": {
      "text/plain": [
       "Index(['index',       0,       1,       2,       3,       4,       5,       6,\n",
       "             7,       8,\n",
       "       ...\n",
       "           344,     345,     346,     347,     348,     349,     350,     351,\n",
       "           352,     353],\n",
       "      dtype='object', length=355)"
      ]
     },
     "execution_count": 10,
     "metadata": {},
     "output_type": "execute_result"
    }
   ],
   "source": [
    "properties_T.columns"
   ]
  },
  {
   "cell_type": "code",
   "execution_count": 11,
   "metadata": {},
   "outputs": [
    {
     "data": {
      "text/plain": [
       "index             Unnamed: 0\n",
       "0                        NaT\n",
       "1        1995-01-01 00:00:00\n",
       "2        1995-02-01 00:00:00\n",
       "3        1995-03-01 00:00:00\n",
       "                ...         \n",
       "349      2024-01-01 00:00:00\n",
       "350      2024-02-01 00:00:00\n",
       "351      2024-03-01 00:00:00\n",
       "352      2024-04-01 00:00:00\n",
       "353      2024-05-01 00:00:00\n",
       "Name: 0, Length: 355, dtype: object"
      ]
     },
     "execution_count": 11,
     "metadata": {},
     "output_type": "execute_result"
    }
   ],
   "source": [
    "properties_T.iloc[0]"
   ]
  },
  {
   "cell_type": "code",
   "execution_count": 12,
   "metadata": {},
   "outputs": [],
   "source": [
    "properties_T.columns = properties_T.iloc[0]"
   ]
  },
  {
   "cell_type": "code",
   "execution_count": 13,
   "metadata": {},
   "outputs": [
    {
     "data": {
      "text/html": [
       "<div>\n",
       "<style scoped>\n",
       "    .dataframe tbody tr th:only-of-type {\n",
       "        vertical-align: middle;\n",
       "    }\n",
       "\n",
       "    .dataframe tbody tr th {\n",
       "        vertical-align: top;\n",
       "    }\n",
       "\n",
       "    .dataframe thead th {\n",
       "        text-align: right;\n",
       "    }\n",
       "</style>\n",
       "<table border=\"1\" class=\"dataframe\">\n",
       "  <thead>\n",
       "    <tr style=\"text-align: right;\">\n",
       "      <th></th>\n",
       "      <th>Unnamed: 0</th>\n",
       "      <th>NaT</th>\n",
       "      <th>1995-01-01 00:00:00</th>\n",
       "      <th>1995-02-01 00:00:00</th>\n",
       "      <th>1995-03-01 00:00:00</th>\n",
       "      <th>1995-04-01 00:00:00</th>\n",
       "      <th>1995-05-01 00:00:00</th>\n",
       "      <th>1995-06-01 00:00:00</th>\n",
       "      <th>1995-07-01 00:00:00</th>\n",
       "      <th>1995-08-01 00:00:00</th>\n",
       "      <th>...</th>\n",
       "      <th>2023-08-01 00:00:00</th>\n",
       "      <th>2023-09-01 00:00:00</th>\n",
       "      <th>2023-10-01 00:00:00</th>\n",
       "      <th>2023-11-01 00:00:00</th>\n",
       "      <th>2023-12-01 00:00:00</th>\n",
       "      <th>2024-01-01 00:00:00</th>\n",
       "      <th>2024-02-01 00:00:00</th>\n",
       "      <th>2024-03-01 00:00:00</th>\n",
       "      <th>2024-04-01 00:00:00</th>\n",
       "      <th>2024-05-01 00:00:00</th>\n",
       "    </tr>\n",
       "  </thead>\n",
       "  <tbody>\n",
       "    <tr>\n",
       "      <th>0</th>\n",
       "      <td>Unnamed: 0</td>\n",
       "      <td>NaT</td>\n",
       "      <td>1995-01-01 00:00:00</td>\n",
       "      <td>1995-02-01 00:00:00</td>\n",
       "      <td>1995-03-01 00:00:00</td>\n",
       "      <td>1995-04-01 00:00:00</td>\n",
       "      <td>1995-05-01 00:00:00</td>\n",
       "      <td>1995-06-01 00:00:00</td>\n",
       "      <td>1995-07-01 00:00:00</td>\n",
       "      <td>1995-08-01 00:00:00</td>\n",
       "      <td>...</td>\n",
       "      <td>2023-08-01 00:00:00</td>\n",
       "      <td>2023-09-01 00:00:00</td>\n",
       "      <td>2023-10-01 00:00:00</td>\n",
       "      <td>2023-11-01 00:00:00</td>\n",
       "      <td>2023-12-01 00:00:00</td>\n",
       "      <td>2024-01-01 00:00:00</td>\n",
       "      <td>2024-02-01 00:00:00</td>\n",
       "      <td>2024-03-01 00:00:00</td>\n",
       "      <td>2024-04-01 00:00:00</td>\n",
       "      <td>2024-05-01 00:00:00</td>\n",
       "    </tr>\n",
       "    <tr>\n",
       "      <th>1</th>\n",
       "      <td>City of London</td>\n",
       "      <td>E09000001</td>\n",
       "      <td>91448.98487</td>\n",
       "      <td>82202.77314</td>\n",
       "      <td>79120.70256</td>\n",
       "      <td>77101.20804</td>\n",
       "      <td>84409.14932</td>\n",
       "      <td>94900.51244</td>\n",
       "      <td>110128.0423</td>\n",
       "      <td>112329.4376</td>\n",
       "      <td>...</td>\n",
       "      <td>991377</td>\n",
       "      <td>938351</td>\n",
       "      <td>878376</td>\n",
       "      <td>853910</td>\n",
       "      <td>812845</td>\n",
       "      <td>827858</td>\n",
       "      <td>847724</td>\n",
       "      <td>810163</td>\n",
       "      <td>794367</td>\n",
       "      <td>819967</td>\n",
       "    </tr>\n",
       "    <tr>\n",
       "      <th>2</th>\n",
       "      <td>Barking &amp; Dagenham</td>\n",
       "      <td>E09000002</td>\n",
       "      <td>50460.2266</td>\n",
       "      <td>51085.77983</td>\n",
       "      <td>51268.96956</td>\n",
       "      <td>53133.50526</td>\n",
       "      <td>53042.24852</td>\n",
       "      <td>53700.34831</td>\n",
       "      <td>52113.12157</td>\n",
       "      <td>52232.19868</td>\n",
       "      <td>...</td>\n",
       "      <td>339478</td>\n",
       "      <td>337277</td>\n",
       "      <td>337710</td>\n",
       "      <td>341336</td>\n",
       "      <td>339887</td>\n",
       "      <td>334017</td>\n",
       "      <td>329495</td>\n",
       "      <td>335733</td>\n",
       "      <td>337776</td>\n",
       "      <td>337753</td>\n",
       "    </tr>\n",
       "    <tr>\n",
       "      <th>3</th>\n",
       "      <td>Barnet</td>\n",
       "      <td>E09000003</td>\n",
       "      <td>93284.51832</td>\n",
       "      <td>93190.16963</td>\n",
       "      <td>92247.52435</td>\n",
       "      <td>90762.87492</td>\n",
       "      <td>90258.00033</td>\n",
       "      <td>90107.23471</td>\n",
       "      <td>91441.24768</td>\n",
       "      <td>92361.31512</td>\n",
       "      <td>...</td>\n",
       "      <td>594359</td>\n",
       "      <td>591378</td>\n",
       "      <td>581452</td>\n",
       "      <td>582478</td>\n",
       "      <td>581937</td>\n",
       "      <td>581503</td>\n",
       "      <td>569346</td>\n",
       "      <td>576147</td>\n",
       "      <td>573439</td>\n",
       "      <td>583534</td>\n",
       "    </tr>\n",
       "    <tr>\n",
       "      <th>4</th>\n",
       "      <td>Bexley</td>\n",
       "      <td>E09000004</td>\n",
       "      <td>64958.09036</td>\n",
       "      <td>64787.92069</td>\n",
       "      <td>64367.49344</td>\n",
       "      <td>64277.66881</td>\n",
       "      <td>63997.13588</td>\n",
       "      <td>64252.32335</td>\n",
       "      <td>63722.70055</td>\n",
       "      <td>64432.60005</td>\n",
       "      <td>...</td>\n",
       "      <td>397570</td>\n",
       "      <td>398394</td>\n",
       "      <td>393683</td>\n",
       "      <td>397405</td>\n",
       "      <td>393852</td>\n",
       "      <td>396432</td>\n",
       "      <td>397368</td>\n",
       "      <td>400591</td>\n",
       "      <td>405096</td>\n",
       "      <td>409364</td>\n",
       "    </tr>\n",
       "  </tbody>\n",
       "</table>\n",
       "<p>5 rows × 355 columns</p>\n",
       "</div>"
      ],
      "text/plain": [
       "0          Unnamed: 0        NaT  1995-01-01 00:00:00  1995-02-01 00:00:00  \\\n",
       "0          Unnamed: 0        NaT  1995-01-01 00:00:00  1995-02-01 00:00:00   \n",
       "1      City of London  E09000001          91448.98487          82202.77314   \n",
       "2  Barking & Dagenham  E09000002           50460.2266          51085.77983   \n",
       "3              Barnet  E09000003          93284.51832          93190.16963   \n",
       "4              Bexley  E09000004          64958.09036          64787.92069   \n",
       "\n",
       "0  1995-03-01 00:00:00  1995-04-01 00:00:00  1995-05-01 00:00:00  \\\n",
       "0  1995-03-01 00:00:00  1995-04-01 00:00:00  1995-05-01 00:00:00   \n",
       "1          79120.70256          77101.20804          84409.14932   \n",
       "2          51268.96956          53133.50526          53042.24852   \n",
       "3          92247.52435          90762.87492          90258.00033   \n",
       "4          64367.49344          64277.66881          63997.13588   \n",
       "\n",
       "0  1995-06-01 00:00:00  1995-07-01 00:00:00  1995-08-01 00:00:00  ...  \\\n",
       "0  1995-06-01 00:00:00  1995-07-01 00:00:00  1995-08-01 00:00:00  ...   \n",
       "1          94900.51244          110128.0423          112329.4376  ...   \n",
       "2          53700.34831          52113.12157          52232.19868  ...   \n",
       "3          90107.23471          91441.24768          92361.31512  ...   \n",
       "4          64252.32335          63722.70055          64432.60005  ...   \n",
       "\n",
       "0  2023-08-01 00:00:00  2023-09-01 00:00:00  2023-10-01 00:00:00  \\\n",
       "0  2023-08-01 00:00:00  2023-09-01 00:00:00  2023-10-01 00:00:00   \n",
       "1               991377               938351               878376   \n",
       "2               339478               337277               337710   \n",
       "3               594359               591378               581452   \n",
       "4               397570               398394               393683   \n",
       "\n",
       "0  2023-11-01 00:00:00  2023-12-01 00:00:00  2024-01-01 00:00:00  \\\n",
       "0  2023-11-01 00:00:00  2023-12-01 00:00:00  2024-01-01 00:00:00   \n",
       "1               853910               812845               827858   \n",
       "2               341336               339887               334017   \n",
       "3               582478               581937               581503   \n",
       "4               397405               393852               396432   \n",
       "\n",
       "0  2024-02-01 00:00:00  2024-03-01 00:00:00  2024-04-01 00:00:00  \\\n",
       "0  2024-02-01 00:00:00  2024-03-01 00:00:00  2024-04-01 00:00:00   \n",
       "1               847724               810163               794367   \n",
       "2               329495               335733               337776   \n",
       "3               569346               576147               573439   \n",
       "4               397368               400591               405096   \n",
       "\n",
       "0  2024-05-01 00:00:00  \n",
       "0  2024-05-01 00:00:00  \n",
       "1               819967  \n",
       "2               337753  \n",
       "3               583534  \n",
       "4               409364  \n",
       "\n",
       "[5 rows x 355 columns]"
      ]
     },
     "execution_count": 13,
     "metadata": {},
     "output_type": "execute_result"
    }
   ],
   "source": [
    "properties_T.head()"
   ]
  },
  {
   "cell_type": "code",
   "execution_count": 14,
   "metadata": {},
   "outputs": [],
   "source": [
    "properties_T = properties_T.drop(0)"
   ]
  },
  {
   "cell_type": "code",
   "execution_count": 15,
   "metadata": {},
   "outputs": [
    {
     "data": {
      "text/html": [
       "<div>\n",
       "<style scoped>\n",
       "    .dataframe tbody tr th:only-of-type {\n",
       "        vertical-align: middle;\n",
       "    }\n",
       "\n",
       "    .dataframe tbody tr th {\n",
       "        vertical-align: top;\n",
       "    }\n",
       "\n",
       "    .dataframe thead th {\n",
       "        text-align: right;\n",
       "    }\n",
       "</style>\n",
       "<table border=\"1\" class=\"dataframe\">\n",
       "  <thead>\n",
       "    <tr style=\"text-align: right;\">\n",
       "      <th></th>\n",
       "      <th>Unnamed: 0</th>\n",
       "      <th>NaT</th>\n",
       "      <th>1995-01-01 00:00:00</th>\n",
       "      <th>1995-02-01 00:00:00</th>\n",
       "      <th>1995-03-01 00:00:00</th>\n",
       "      <th>1995-04-01 00:00:00</th>\n",
       "      <th>1995-05-01 00:00:00</th>\n",
       "      <th>1995-06-01 00:00:00</th>\n",
       "      <th>1995-07-01 00:00:00</th>\n",
       "      <th>1995-08-01 00:00:00</th>\n",
       "      <th>...</th>\n",
       "      <th>2023-08-01 00:00:00</th>\n",
       "      <th>2023-09-01 00:00:00</th>\n",
       "      <th>2023-10-01 00:00:00</th>\n",
       "      <th>2023-11-01 00:00:00</th>\n",
       "      <th>2023-12-01 00:00:00</th>\n",
       "      <th>2024-01-01 00:00:00</th>\n",
       "      <th>2024-02-01 00:00:00</th>\n",
       "      <th>2024-03-01 00:00:00</th>\n",
       "      <th>2024-04-01 00:00:00</th>\n",
       "      <th>2024-05-01 00:00:00</th>\n",
       "    </tr>\n",
       "  </thead>\n",
       "  <tbody>\n",
       "    <tr>\n",
       "      <th>1</th>\n",
       "      <td>City of London</td>\n",
       "      <td>E09000001</td>\n",
       "      <td>91448.98487</td>\n",
       "      <td>82202.77314</td>\n",
       "      <td>79120.70256</td>\n",
       "      <td>77101.20804</td>\n",
       "      <td>84409.14932</td>\n",
       "      <td>94900.51244</td>\n",
       "      <td>110128.0423</td>\n",
       "      <td>112329.4376</td>\n",
       "      <td>...</td>\n",
       "      <td>991377</td>\n",
       "      <td>938351</td>\n",
       "      <td>878376</td>\n",
       "      <td>853910</td>\n",
       "      <td>812845</td>\n",
       "      <td>827858</td>\n",
       "      <td>847724</td>\n",
       "      <td>810163</td>\n",
       "      <td>794367</td>\n",
       "      <td>819967</td>\n",
       "    </tr>\n",
       "    <tr>\n",
       "      <th>2</th>\n",
       "      <td>Barking &amp; Dagenham</td>\n",
       "      <td>E09000002</td>\n",
       "      <td>50460.2266</td>\n",
       "      <td>51085.77983</td>\n",
       "      <td>51268.96956</td>\n",
       "      <td>53133.50526</td>\n",
       "      <td>53042.24852</td>\n",
       "      <td>53700.34831</td>\n",
       "      <td>52113.12157</td>\n",
       "      <td>52232.19868</td>\n",
       "      <td>...</td>\n",
       "      <td>339478</td>\n",
       "      <td>337277</td>\n",
       "      <td>337710</td>\n",
       "      <td>341336</td>\n",
       "      <td>339887</td>\n",
       "      <td>334017</td>\n",
       "      <td>329495</td>\n",
       "      <td>335733</td>\n",
       "      <td>337776</td>\n",
       "      <td>337753</td>\n",
       "    </tr>\n",
       "    <tr>\n",
       "      <th>3</th>\n",
       "      <td>Barnet</td>\n",
       "      <td>E09000003</td>\n",
       "      <td>93284.51832</td>\n",
       "      <td>93190.16963</td>\n",
       "      <td>92247.52435</td>\n",
       "      <td>90762.87492</td>\n",
       "      <td>90258.00033</td>\n",
       "      <td>90107.23471</td>\n",
       "      <td>91441.24768</td>\n",
       "      <td>92361.31512</td>\n",
       "      <td>...</td>\n",
       "      <td>594359</td>\n",
       "      <td>591378</td>\n",
       "      <td>581452</td>\n",
       "      <td>582478</td>\n",
       "      <td>581937</td>\n",
       "      <td>581503</td>\n",
       "      <td>569346</td>\n",
       "      <td>576147</td>\n",
       "      <td>573439</td>\n",
       "      <td>583534</td>\n",
       "    </tr>\n",
       "    <tr>\n",
       "      <th>4</th>\n",
       "      <td>Bexley</td>\n",
       "      <td>E09000004</td>\n",
       "      <td>64958.09036</td>\n",
       "      <td>64787.92069</td>\n",
       "      <td>64367.49344</td>\n",
       "      <td>64277.66881</td>\n",
       "      <td>63997.13588</td>\n",
       "      <td>64252.32335</td>\n",
       "      <td>63722.70055</td>\n",
       "      <td>64432.60005</td>\n",
       "      <td>...</td>\n",
       "      <td>397570</td>\n",
       "      <td>398394</td>\n",
       "      <td>393683</td>\n",
       "      <td>397405</td>\n",
       "      <td>393852</td>\n",
       "      <td>396432</td>\n",
       "      <td>397368</td>\n",
       "      <td>400591</td>\n",
       "      <td>405096</td>\n",
       "      <td>409364</td>\n",
       "    </tr>\n",
       "    <tr>\n",
       "      <th>5</th>\n",
       "      <td>Brent</td>\n",
       "      <td>E09000005</td>\n",
       "      <td>71306.56698</td>\n",
       "      <td>72022.26197</td>\n",
       "      <td>72015.76274</td>\n",
       "      <td>72965.63094</td>\n",
       "      <td>73704.04743</td>\n",
       "      <td>74310.48167</td>\n",
       "      <td>74127.03788</td>\n",
       "      <td>73547.0411</td>\n",
       "      <td>...</td>\n",
       "      <td>530415</td>\n",
       "      <td>530100</td>\n",
       "      <td>529247</td>\n",
       "      <td>517557</td>\n",
       "      <td>506742</td>\n",
       "      <td>523266</td>\n",
       "      <td>527930</td>\n",
       "      <td>508176</td>\n",
       "      <td>495415</td>\n",
       "      <td>503590</td>\n",
       "    </tr>\n",
       "  </tbody>\n",
       "</table>\n",
       "<p>5 rows × 355 columns</p>\n",
       "</div>"
      ],
      "text/plain": [
       "0          Unnamed: 0        NaT 1995-01-01 00:00:00 1995-02-01 00:00:00  \\\n",
       "1      City of London  E09000001         91448.98487         82202.77314   \n",
       "2  Barking & Dagenham  E09000002          50460.2266         51085.77983   \n",
       "3              Barnet  E09000003         93284.51832         93190.16963   \n",
       "4              Bexley  E09000004         64958.09036         64787.92069   \n",
       "5               Brent  E09000005         71306.56698         72022.26197   \n",
       "\n",
       "0 1995-03-01 00:00:00 1995-04-01 00:00:00 1995-05-01 00:00:00  \\\n",
       "1         79120.70256         77101.20804         84409.14932   \n",
       "2         51268.96956         53133.50526         53042.24852   \n",
       "3         92247.52435         90762.87492         90258.00033   \n",
       "4         64367.49344         64277.66881         63997.13588   \n",
       "5         72015.76274         72965.63094         73704.04743   \n",
       "\n",
       "0 1995-06-01 00:00:00 1995-07-01 00:00:00 1995-08-01 00:00:00  ...  \\\n",
       "1         94900.51244         110128.0423         112329.4376  ...   \n",
       "2         53700.34831         52113.12157         52232.19868  ...   \n",
       "3         90107.23471         91441.24768         92361.31512  ...   \n",
       "4         64252.32335         63722.70055         64432.60005  ...   \n",
       "5         74310.48167         74127.03788          73547.0411  ...   \n",
       "\n",
       "0 2023-08-01 00:00:00 2023-09-01 00:00:00 2023-10-01 00:00:00  \\\n",
       "1              991377              938351              878376   \n",
       "2              339478              337277              337710   \n",
       "3              594359              591378              581452   \n",
       "4              397570              398394              393683   \n",
       "5              530415              530100              529247   \n",
       "\n",
       "0 2023-11-01 00:00:00 2023-12-01 00:00:00 2024-01-01 00:00:00  \\\n",
       "1              853910              812845              827858   \n",
       "2              341336              339887              334017   \n",
       "3              582478              581937              581503   \n",
       "4              397405              393852              396432   \n",
       "5              517557              506742              523266   \n",
       "\n",
       "0 2024-02-01 00:00:00 2024-03-01 00:00:00 2024-04-01 00:00:00  \\\n",
       "1              847724              810163              794367   \n",
       "2              329495              335733              337776   \n",
       "3              569346              576147              573439   \n",
       "4              397368              400591              405096   \n",
       "5              527930              508176              495415   \n",
       "\n",
       "0 2024-05-01 00:00:00  \n",
       "1              819967  \n",
       "2              337753  \n",
       "3              583534  \n",
       "4              409364  \n",
       "5              503590  \n",
       "\n",
       "[5 rows x 355 columns]"
      ]
     },
     "execution_count": 15,
     "metadata": {},
     "output_type": "execute_result"
    }
   ],
   "source": [
    "properties_T.head()"
   ]
  },
  {
   "cell_type": "code",
   "execution_count": 16,
   "metadata": {},
   "outputs": [],
   "source": [
    "#properties_T = properties.T.reset_index()\n",
    "#properties_T.columns = properties_T.iloc[0]\n",
    "#properties_T = properties_T.drop(0)\n",
    "#properties_T.head()"
   ]
  },
  {
   "cell_type": "code",
   "execution_count": 17,
   "metadata": {},
   "outputs": [],
   "source": [
    "#properties = properties.transpose()\n",
    "#properties = properties.reset_index()\n",
    "#properties.columns = properties.iloc[0]\n",
    "#properties = properties.drop(0)\n",
    "#properties.head()"
   ]
  },
  {
   "cell_type": "markdown",
   "metadata": {
    "colab_type": "text",
    "id": "o1uLbJAsoIjK"
   },
   "source": [
    "**2.3. Cleaning the data (part 2)**\n",
    "\n",
    "You might we have to **rename** a couple columns. How do you do this? The clue's pretty bold..."
   ]
  },
  {
   "cell_type": "code",
   "execution_count": 18,
   "metadata": {},
   "outputs": [
    {
     "data": {
      "text/plain": [
       "Index([       'Unnamed: 0',                 NaT, 1995-01-01 00:00:00,\n",
       "       1995-02-01 00:00:00, 1995-03-01 00:00:00, 1995-04-01 00:00:00,\n",
       "       1995-05-01 00:00:00, 1995-06-01 00:00:00, 1995-07-01 00:00:00,\n",
       "       1995-08-01 00:00:00,\n",
       "       ...\n",
       "       2023-08-01 00:00:00, 2023-09-01 00:00:00, 2023-10-01 00:00:00,\n",
       "       2023-11-01 00:00:00, 2023-12-01 00:00:00, 2024-01-01 00:00:00,\n",
       "       2024-02-01 00:00:00, 2024-03-01 00:00:00, 2024-04-01 00:00:00,\n",
       "       2024-05-01 00:00:00],\n",
       "      dtype='object', name=0, length=355)"
      ]
     },
     "execution_count": 18,
     "metadata": {},
     "output_type": "execute_result"
    }
   ],
   "source": [
    "properties_T.columns"
   ]
  },
  {
   "cell_type": "code",
   "execution_count": 19,
   "metadata": {
    "colab": {},
    "colab_type": "code",
    "id": "GKkmn1AnoVZS"
   },
   "outputs": [],
   "source": [
    "properties_T = properties_T.rename(columns = {'Unnamed: 0':'London_Borough', pd.NaT: 'ID'})"
   ]
  },
  {
   "cell_type": "code",
   "execution_count": 20,
   "metadata": {
    "colab": {},
    "colab_type": "code",
    "id": "GKkmn1AnoVZS"
   },
   "outputs": [
    {
     "data": {
      "text/plain": [
       "Index([   'London_Borough',                'ID', 1995-01-01 00:00:00,\n",
       "       1995-02-01 00:00:00, 1995-03-01 00:00:00, 1995-04-01 00:00:00,\n",
       "       1995-05-01 00:00:00, 1995-06-01 00:00:00, 1995-07-01 00:00:00,\n",
       "       1995-08-01 00:00:00,\n",
       "       ...\n",
       "       2023-08-01 00:00:00, 2023-09-01 00:00:00, 2023-10-01 00:00:00,\n",
       "       2023-11-01 00:00:00, 2023-12-01 00:00:00, 2024-01-01 00:00:00,\n",
       "       2024-02-01 00:00:00, 2024-03-01 00:00:00, 2024-04-01 00:00:00,\n",
       "       2024-05-01 00:00:00],\n",
       "      dtype='object', name=0, length=355)"
      ]
     },
     "execution_count": 20,
     "metadata": {},
     "output_type": "execute_result"
    }
   ],
   "source": [
    "properties_T.columns"
   ]
  },
  {
   "cell_type": "markdown",
   "metadata": {
    "colab_type": "text",
    "id": "jy8BzXHmoWEw"
   },
   "source": [
    "**2.4.Transforming the data**\n",
    "\n",
    "Remember what Wes McKinney said about tidy data? \n",
    "\n",
    "You might need to **melt** your DataFrame here. "
   ]
  },
  {
   "cell_type": "code",
   "execution_count": 25,
   "metadata": {
    "colab": {},
    "colab_type": "code",
    "id": "S2wM0qLuo2Zt"
   },
   "outputs": [],
   "source": [
    "clean_properties = pd.melt(properties_T, id_vars=['London_Borough', 'ID'], var_name='Month', value_name='Average_price')"
   ]
  },
  {
   "cell_type": "code",
   "execution_count": 22,
   "metadata": {},
   "outputs": [
    {
     "data": {
      "text/html": [
       "<div>\n",
       "<style scoped>\n",
       "    .dataframe tbody tr th:only-of-type {\n",
       "        vertical-align: middle;\n",
       "    }\n",
       "\n",
       "    .dataframe tbody tr th {\n",
       "        vertical-align: top;\n",
       "    }\n",
       "\n",
       "    .dataframe thead th {\n",
       "        text-align: right;\n",
       "    }\n",
       "</style>\n",
       "<table border=\"1\" class=\"dataframe\">\n",
       "  <thead>\n",
       "    <tr style=\"text-align: right;\">\n",
       "      <th></th>\n",
       "      <th>London_Borough</th>\n",
       "      <th>ID</th>\n",
       "      <th>0</th>\n",
       "      <th>value</th>\n",
       "    </tr>\n",
       "  </thead>\n",
       "  <tbody>\n",
       "    <tr>\n",
       "      <th>0</th>\n",
       "      <td>City of London</td>\n",
       "      <td>E09000001</td>\n",
       "      <td>1995-01-01 00:00:00</td>\n",
       "      <td>91448.98487</td>\n",
       "    </tr>\n",
       "    <tr>\n",
       "      <th>1</th>\n",
       "      <td>Barking &amp; Dagenham</td>\n",
       "      <td>E09000002</td>\n",
       "      <td>1995-01-01 00:00:00</td>\n",
       "      <td>50460.2266</td>\n",
       "    </tr>\n",
       "    <tr>\n",
       "      <th>2</th>\n",
       "      <td>Barnet</td>\n",
       "      <td>E09000003</td>\n",
       "      <td>1995-01-01 00:00:00</td>\n",
       "      <td>93284.51832</td>\n",
       "    </tr>\n",
       "    <tr>\n",
       "      <th>3</th>\n",
       "      <td>Bexley</td>\n",
       "      <td>E09000004</td>\n",
       "      <td>1995-01-01 00:00:00</td>\n",
       "      <td>64958.09036</td>\n",
       "    </tr>\n",
       "    <tr>\n",
       "      <th>4</th>\n",
       "      <td>Brent</td>\n",
       "      <td>E09000005</td>\n",
       "      <td>1995-01-01 00:00:00</td>\n",
       "      <td>71306.56698</td>\n",
       "    </tr>\n",
       "  </tbody>\n",
       "</table>\n",
       "</div>"
      ],
      "text/plain": [
       "       London_Borough         ID                    0        value\n",
       "0      City of London  E09000001  1995-01-01 00:00:00  91448.98487\n",
       "1  Barking & Dagenham  E09000002  1995-01-01 00:00:00   50460.2266\n",
       "2              Barnet  E09000003  1995-01-01 00:00:00  93284.51832\n",
       "3              Bexley  E09000004  1995-01-01 00:00:00  64958.09036\n",
       "4               Brent  E09000005  1995-01-01 00:00:00  71306.56698"
      ]
     },
     "execution_count": 22,
     "metadata": {},
     "output_type": "execute_result"
    }
   ],
   "source": [
    "clean_properties.head()"
   ]
  },
  {
   "cell_type": "code",
   "execution_count": 21,
   "metadata": {
    "colab": {},
    "colab_type": "code",
    "id": "S2wM0qLuo2Zt"
   },
   "outputs": [],
   "source": [
    "#clean_properties = pd.melt(properties_T, id_vars= ['London_Borough', 'ID'])"
   ]
  },
  {
   "cell_type": "code",
   "execution_count": 23,
   "metadata": {},
   "outputs": [],
   "source": [
    "#clean_properties = clean_properties.rename(columns = {0: 'Month', 'value': 'Average_price'})"
   ]
  },
  {
   "cell_type": "code",
   "execution_count": 24,
   "metadata": {},
   "outputs": [
    {
     "data": {
      "text/plain": [
       "Index(['London_Borough', 'ID', 'Month', 'Average_price'], dtype='object')"
      ]
     },
     "execution_count": 24,
     "metadata": {},
     "output_type": "execute_result"
    }
   ],
   "source": [
    "#clean_properties.columns"
   ]
  },
  {
   "cell_type": "markdown",
   "metadata": {
    "colab_type": "text",
    "id": "7kIsgAo7o3mf"
   },
   "source": [
    "Remember to make sure your column data types are all correct. Average prices, for example, should be floating point numbers... "
   ]
  },
  {
   "cell_type": "code",
   "execution_count": 26,
   "metadata": {},
   "outputs": [
    {
     "data": {
      "text/plain": [
       "London_Borough    object\n",
       "ID                object\n",
       "Month             object\n",
       "Average_price     object\n",
       "dtype: object"
      ]
     },
     "execution_count": 26,
     "metadata": {},
     "output_type": "execute_result"
    }
   ],
   "source": [
    "clean_properties.dtypes"
   ]
  },
  {
   "cell_type": "code",
   "execution_count": 27,
   "metadata": {},
   "outputs": [],
   "source": [
    "clean_properties['Average_price'] = pd.to_numeric(clean_properties['Average_price'])\n",
    "clean_properties.dtypes"
   ]
  },
  {
   "cell_type": "code",
   "execution_count": 29,
   "metadata": {},
   "outputs": [],
   "source": [
    "clean_properties['Month'] = pd.to_datetime(clean_properties['Month'], format = \"%Y-%m-%d %H:%M:%S\")"
   ]
  },
  {
   "cell_type": "code",
   "execution_count": 30,
   "metadata": {},
   "outputs": [
    {
     "name": "stdout",
     "output_type": "stream",
     "text": [
      "<class 'pandas.core.frame.DataFrame'>\n",
      "RangeIndex: 16944 entries, 0 to 16943\n",
      "Data columns (total 4 columns):\n",
      " #   Column          Non-Null Count  Dtype         \n",
      "---  ------          --------------  -----         \n",
      " 0   London_Borough  16944 non-null  object        \n",
      " 1   ID              15885 non-null  object        \n",
      " 2   Month           16944 non-null  datetime64[ns]\n",
      " 3   Average_price   15885 non-null  float64       \n",
      "dtypes: datetime64[ns](1), float64(1), object(2)\n",
      "memory usage: 529.6+ KB\n"
     ]
    }
   ],
   "source": [
    "clean_properties.info()"
   ]
  },
  {
   "cell_type": "code",
   "execution_count": 31,
   "metadata": {
    "colab": {},
    "colab_type": "code",
    "id": "ZcR4IHbcpOaq"
   },
   "outputs": [],
   "source": [
    "#clean_properties['Month'] = pd.to_datetime(clean_properties['Month'], format = \"%Y-%m-%d %H:%M:%S\")\n",
    "#clean_properties['Average Price'] = clean_properties['Average Price'].astype(float)\n",
    "#clean_properties.info()"
   ]
  },
  {
   "cell_type": "markdown",
   "metadata": {
    "colab_type": "text",
    "id": "knLUXHLypOtw"
   },
   "source": [
    "**2.5. Cleaning the data (part 3)**\n",
    "\n",
    "Do we have an equal number of observations in the ID, Average Price, Month, and London Borough columns? Remember that there are only 32 London Boroughs. How many entries do you have in that column? \n",
    "\n",
    "Check out the contents of the London Borough column, and if you find null values, get rid of them however you see fit. "
   ]
  },
  {
   "cell_type": "code",
   "execution_count": 32,
   "metadata": {},
   "outputs": [
    {
     "data": {
      "text/plain": [
       "London_Borough    16944\n",
       "ID                15885\n",
       "Month             16944\n",
       "Average_price     15885\n",
       "dtype: int64"
      ]
     },
     "execution_count": 32,
     "metadata": {},
     "output_type": "execute_result"
    }
   ],
   "source": [
    "clean_properties.count()"
   ]
  },
  {
   "cell_type": "code",
   "execution_count": 34,
   "metadata": {},
   "outputs": [],
   "source": [
    "NaNFreeDF = clean_properties.dropna()"
   ]
  },
  {
   "cell_type": "code",
   "execution_count": 35,
   "metadata": {},
   "outputs": [
    {
     "data": {
      "text/html": [
       "<div>\n",
       "<style scoped>\n",
       "    .dataframe tbody tr th:only-of-type {\n",
       "        vertical-align: middle;\n",
       "    }\n",
       "\n",
       "    .dataframe tbody tr th {\n",
       "        vertical-align: top;\n",
       "    }\n",
       "\n",
       "    .dataframe thead th {\n",
       "        text-align: right;\n",
       "    }\n",
       "</style>\n",
       "<table border=\"1\" class=\"dataframe\">\n",
       "  <thead>\n",
       "    <tr style=\"text-align: right;\">\n",
       "      <th></th>\n",
       "      <th>London_Borough</th>\n",
       "      <th>ID</th>\n",
       "      <th>Month</th>\n",
       "      <th>Average_price</th>\n",
       "    </tr>\n",
       "  </thead>\n",
       "  <tbody>\n",
       "    <tr>\n",
       "      <th>9685</th>\n",
       "      <td>NORTH EAST</td>\n",
       "      <td>E12000001</td>\n",
       "      <td>2011-10-01</td>\n",
       "      <td>116238.44990</td>\n",
       "    </tr>\n",
       "    <tr>\n",
       "      <th>750</th>\n",
       "      <td>Waltham Forest</td>\n",
       "      <td>E09000031</td>\n",
       "      <td>1996-04-01</td>\n",
       "      <td>61466.51965</td>\n",
       "    </tr>\n",
       "    <tr>\n",
       "      <th>6745</th>\n",
       "      <td>Redbridge</td>\n",
       "      <td>E09000026</td>\n",
       "      <td>2006-09-01</td>\n",
       "      <td>245605.27230</td>\n",
       "    </tr>\n",
       "    <tr>\n",
       "      <th>13253</th>\n",
       "      <td>Bromley</td>\n",
       "      <td>E09000006</td>\n",
       "      <td>2018-01-01</td>\n",
       "      <td>446736.58390</td>\n",
       "    </tr>\n",
       "    <tr>\n",
       "      <th>10039</th>\n",
       "      <td>Croydon</td>\n",
       "      <td>E09000008</td>\n",
       "      <td>2012-06-01</td>\n",
       "      <td>223322.66190</td>\n",
       "    </tr>\n",
       "  </tbody>\n",
       "</table>\n",
       "</div>"
      ],
      "text/plain": [
       "       London_Borough         ID      Month  Average_price\n",
       "9685       NORTH EAST  E12000001 2011-10-01   116238.44990\n",
       "750    Waltham Forest  E09000031 1996-04-01    61466.51965\n",
       "6745        Redbridge  E09000026 2006-09-01   245605.27230\n",
       "13253         Bromley  E09000006 2018-01-01   446736.58390\n",
       "10039         Croydon  E09000008 2012-06-01   223322.66190"
      ]
     },
     "execution_count": 35,
     "metadata": {},
     "output_type": "execute_result"
    }
   ],
   "source": [
    "NaNFreeDF.sample(5)"
   ]
  },
  {
   "cell_type": "code",
   "execution_count": 36,
   "metadata": {},
   "outputs": [
    {
     "data": {
      "text/plain": [
       "London_Borough    15885\n",
       "ID                15885\n",
       "Month             15885\n",
       "Average_price     15885\n",
       "dtype: int64"
      ]
     },
     "execution_count": 36,
     "metadata": {},
     "output_type": "execute_result"
    }
   ],
   "source": [
    "NaNFreeDF.count()"
   ]
  },
  {
   "cell_type": "code",
   "execution_count": 37,
   "metadata": {},
   "outputs": [
    {
     "data": {
      "text/plain": [
       "array(['City of London', 'Barking & Dagenham', 'Barnet', 'Bexley',\n",
       "       'Brent', 'Bromley', 'Camden', 'Croydon', 'Ealing', 'Enfield',\n",
       "       'Greenwich', 'Hackney', 'Hammersmith & Fulham', 'Haringey',\n",
       "       'Harrow', 'Havering', 'Hillingdon', 'Hounslow', 'Islington',\n",
       "       'Kensington & Chelsea', 'Kingston upon Thames', 'Lambeth',\n",
       "       'Lewisham', 'Merton', 'Newham', 'Redbridge',\n",
       "       'Richmond upon Thames', 'Southwark', 'Sutton', 'Tower Hamlets',\n",
       "       'Waltham Forest', 'Wandsworth', 'Westminster', 'Inner London',\n",
       "       'Outer London', 'NORTH EAST', 'NORTH WEST', 'YORKS & THE HUMBER',\n",
       "       'EAST MIDLANDS', 'WEST MIDLANDS', 'EAST OF ENGLAND', 'LONDON',\n",
       "       'SOUTH EAST', 'SOUTH WEST', 'England'], dtype=object)"
      ]
     },
     "execution_count": 37,
     "metadata": {},
     "output_type": "execute_result"
    }
   ],
   "source": [
    "NaNFreeDF['London_Borough'].unique()"
   ]
  },
  {
   "cell_type": "code",
   "execution_count": 38,
   "metadata": {},
   "outputs": [
    {
     "data": {
      "text/plain": [
       "(15885, 4)"
      ]
     },
     "execution_count": 38,
     "metadata": {},
     "output_type": "execute_result"
    }
   ],
   "source": [
    "NaNFreeDF.shape"
   ]
  },
  {
   "cell_type": "code",
   "execution_count": 39,
   "metadata": {},
   "outputs": [],
   "source": [
    "nonBoroughs = ['Inner London', 'Outer London', \n",
    "               'NORTH EAST', 'NORTH WEST', 'YORKS & THE HUMBER', \n",
    "               'EAST MIDLANDS', 'WEST MIDLANDS',\n",
    "              'EAST OF ENGLAND', 'LONDON', 'SOUTH EAST', \n",
    "              'SOUTH WEST', 'England']\n",
    "NaNFreeDF = NaNFreeDF[~NaNFreeDF.London_Borough.isin(nonBoroughs)]"
   ]
  },
  {
   "cell_type": "code",
   "execution_count": 40,
   "metadata": {},
   "outputs": [
    {
     "data": {
      "text/html": [
       "<div>\n",
       "<style scoped>\n",
       "    .dataframe tbody tr th:only-of-type {\n",
       "        vertical-align: middle;\n",
       "    }\n",
       "\n",
       "    .dataframe tbody tr th {\n",
       "        vertical-align: top;\n",
       "    }\n",
       "\n",
       "    .dataframe thead th {\n",
       "        text-align: right;\n",
       "    }\n",
       "</style>\n",
       "<table border=\"1\" class=\"dataframe\">\n",
       "  <thead>\n",
       "    <tr style=\"text-align: right;\">\n",
       "      <th></th>\n",
       "      <th>London_Borough</th>\n",
       "      <th>ID</th>\n",
       "      <th>Month</th>\n",
       "      <th>Average_price</th>\n",
       "    </tr>\n",
       "  </thead>\n",
       "  <tbody>\n",
       "    <tr>\n",
       "      <th>0</th>\n",
       "      <td>City of London</td>\n",
       "      <td>E09000001</td>\n",
       "      <td>1995-01-01</td>\n",
       "      <td>91448.98487</td>\n",
       "    </tr>\n",
       "    <tr>\n",
       "      <th>1</th>\n",
       "      <td>Barking &amp; Dagenham</td>\n",
       "      <td>E09000002</td>\n",
       "      <td>1995-01-01</td>\n",
       "      <td>50460.22660</td>\n",
       "    </tr>\n",
       "    <tr>\n",
       "      <th>2</th>\n",
       "      <td>Barnet</td>\n",
       "      <td>E09000003</td>\n",
       "      <td>1995-01-01</td>\n",
       "      <td>93284.51832</td>\n",
       "    </tr>\n",
       "    <tr>\n",
       "      <th>3</th>\n",
       "      <td>Bexley</td>\n",
       "      <td>E09000004</td>\n",
       "      <td>1995-01-01</td>\n",
       "      <td>64958.09036</td>\n",
       "    </tr>\n",
       "    <tr>\n",
       "      <th>4</th>\n",
       "      <td>Brent</td>\n",
       "      <td>E09000005</td>\n",
       "      <td>1995-01-01</td>\n",
       "      <td>71306.56698</td>\n",
       "    </tr>\n",
       "  </tbody>\n",
       "</table>\n",
       "</div>"
      ],
      "text/plain": [
       "       London_Borough         ID      Month  Average_price\n",
       "0      City of London  E09000001 1995-01-01    91448.98487\n",
       "1  Barking & Dagenham  E09000002 1995-01-01    50460.22660\n",
       "2              Barnet  E09000003 1995-01-01    93284.51832\n",
       "3              Bexley  E09000004 1995-01-01    64958.09036\n",
       "4               Brent  E09000005 1995-01-01    71306.56698"
      ]
     },
     "execution_count": 40,
     "metadata": {},
     "output_type": "execute_result"
    }
   ],
   "source": [
    "NaNFreeDF.head()"
   ]
  },
  {
   "cell_type": "code",
   "execution_count": 41,
   "metadata": {},
   "outputs": [],
   "source": [
    "df = NaNFreeDF"
   ]
  },
  {
   "cell_type": "code",
   "execution_count": 42,
   "metadata": {
    "colab": {},
    "colab_type": "code",
    "id": "BnvTW5a3p0fC"
   },
   "outputs": [],
   "source": [
    "#clean_properties.isna().any()\n",
    "#clean_properties.isna().sum()\n",
    "#clean_properties = clean_properties.dropna()"
   ]
  },
  {
   "cell_type": "markdown",
   "metadata": {
    "colab_type": "text",
    "id": "PGEx6mJsp6dG"
   },
   "source": [
    "**2.6. Visualizing the data**\n",
    "\n",
    "To visualize the data, why not subset on a particular London Borough? Maybe do a line plot of Month against Average Price?"
   ]
  },
  {
   "cell_type": "code",
   "execution_count": 43,
   "metadata": {
    "colab": {},
    "colab_type": "code",
    "id": "nAg5pT9cqHAR"
   },
   "outputs": [],
   "source": [
    "brent_prices = df[df['London_Borough'] == 'Brent']\n",
    "brent_prices.head()"
   ]
  },
  {
   "cell_type": "code",
   "execution_count": 45,
   "metadata": {},
   "outputs": [
    {
     "data": {
      "text/plain": [
       "Text(0, 0.5, 'Price')"
      ]
     },
     "execution_count": 45,
     "metadata": {},
     "output_type": "execute_result"
    },
    {
     "data": {
      "image/png": "[encoded data removed]",
      "text/plain": [
       "<Figure size 640x480 with 1 Axes>"
      ]
     },
     "metadata": {},
     "output_type": "display_data"
    }
   ],
   "source": [
    "ax = brent_prices.plot(kind='line', x='Month', y='Average_price')\n",
    "ax.set_ylabel('Price')"
   ]
  },
  {
   "cell_type": "markdown",
   "metadata": {
    "colab_type": "text",
    "id": "aWTPqSJeqHnC"
   },
   "source": [
    "To limit the number of data points you have, you might want to extract the year from every month value your *Month* column. \n",
    "\n",
    "To this end, you *could* apply a ***lambda function***. Your logic could work as follows:\n",
    "1. look through the `Month` column\n",
    "2. extract the year from each individual value in that column \n",
    "3. store that corresponding year as separate column. \n",
    "\n",
    "Whether you go ahead with this is up to you. Just so long as you answer our initial brief: which boroughs of London have seen the greatest house price increase, on average, over the past two decades? "
   ]
  },
  {
   "cell_type": "code",
   "execution_count": 46,
   "metadata": {},
   "outputs": [],
   "source": [
    "df['Year'] = df['Month'].apply(lambda t: t.year)"
   ]
  },
  {
   "cell_type": "code",
   "execution_count": 47,
   "metadata": {},
   "outputs": [
    {
     "data": {
      "text/html": [
       "<div>\n",
       "<style scoped>\n",
       "    .dataframe tbody tr th:only-of-type {\n",
       "        vertical-align: middle;\n",
       "    }\n",
       "\n",
       "    .dataframe tbody tr th {\n",
       "        vertical-align: top;\n",
       "    }\n",
       "\n",
       "    .dataframe thead th {\n",
       "        text-align: right;\n",
       "    }\n",
       "</style>\n",
       "<table border=\"1\" class=\"dataframe\">\n",
       "  <thead>\n",
       "    <tr style=\"text-align: right;\">\n",
       "      <th></th>\n",
       "      <th>London_Borough</th>\n",
       "      <th>ID</th>\n",
       "      <th>Month</th>\n",
       "      <th>Average_price</th>\n",
       "      <th>Year</th>\n",
       "    </tr>\n",
       "  </thead>\n",
       "  <tbody>\n",
       "    <tr>\n",
       "      <th>0</th>\n",
       "      <td>City of London</td>\n",
       "      <td>E09000001</td>\n",
       "      <td>1995-01-01</td>\n",
       "      <td>91448.98487</td>\n",
       "      <td>1995</td>\n",
       "    </tr>\n",
       "    <tr>\n",
       "      <th>1</th>\n",
       "      <td>Barking &amp; Dagenham</td>\n",
       "      <td>E09000002</td>\n",
       "      <td>1995-01-01</td>\n",
       "      <td>50460.22660</td>\n",
       "      <td>1995</td>\n",
       "    </tr>\n",
       "    <tr>\n",
       "      <th>2</th>\n",
       "      <td>Barnet</td>\n",
       "      <td>E09000003</td>\n",
       "      <td>1995-01-01</td>\n",
       "      <td>93284.51832</td>\n",
       "      <td>1995</td>\n",
       "    </tr>\n",
       "    <tr>\n",
       "      <th>3</th>\n",
       "      <td>Bexley</td>\n",
       "      <td>E09000004</td>\n",
       "      <td>1995-01-01</td>\n",
       "      <td>64958.09036</td>\n",
       "      <td>1995</td>\n",
       "    </tr>\n",
       "    <tr>\n",
       "      <th>4</th>\n",
       "      <td>Brent</td>\n",
       "      <td>E09000005</td>\n",
       "      <td>1995-01-01</td>\n",
       "      <td>71306.56698</td>\n",
       "      <td>1995</td>\n",
       "    </tr>\n",
       "  </tbody>\n",
       "</table>\n",
       "</div>"
      ],
      "text/plain": [
       "       London_Borough         ID      Month  Average_price  Year\n",
       "0      City of London  E09000001 1995-01-01    91448.98487  1995\n",
       "1  Barking & Dagenham  E09000002 1995-01-01    50460.22660  1995\n",
       "2              Barnet  E09000003 1995-01-01    93284.51832  1995\n",
       "3              Bexley  E09000004 1995-01-01    64958.09036  1995\n",
       "4               Brent  E09000005 1995-01-01    71306.56698  1995"
      ]
     },
     "execution_count": 47,
     "metadata": {},
     "output_type": "execute_result"
    }
   ],
   "source": [
    "df.head()"
   ]
  },
  {
   "cell_type": "code",
   "execution_count": 48,
   "metadata": {},
   "outputs": [],
   "source": [
    "dfg = df.groupby(by=['London_Borough', 'Year']).mean(numeric_only=True)"
   ]
  },
  {
   "cell_type": "code",
   "execution_count": 49,
   "metadata": {},
   "outputs": [
    {
     "data": {
      "text/html": [
       "<div>\n",
       "<style scoped>\n",
       "    .dataframe tbody tr th:only-of-type {\n",
       "        vertical-align: middle;\n",
       "    }\n",
       "\n",
       "    .dataframe tbody tr th {\n",
       "        vertical-align: top;\n",
       "    }\n",
       "\n",
       "    .dataframe thead th {\n",
       "        text-align: right;\n",
       "    }\n",
       "</style>\n",
       "<table border=\"1\" class=\"dataframe\">\n",
       "  <thead>\n",
       "    <tr style=\"text-align: right;\">\n",
       "      <th></th>\n",
       "      <th></th>\n",
       "      <th>Average_price</th>\n",
       "    </tr>\n",
       "    <tr>\n",
       "      <th>London_Borough</th>\n",
       "      <th>Year</th>\n",
       "      <th></th>\n",
       "    </tr>\n",
       "  </thead>\n",
       "  <tbody>\n",
       "    <tr>\n",
       "      <th rowspan=\"5\" valign=\"top\">Barking &amp; Dagenham</th>\n",
       "      <th>1995</th>\n",
       "      <td>51817.969390</td>\n",
       "    </tr>\n",
       "    <tr>\n",
       "      <th>1996</th>\n",
       "      <td>51718.192690</td>\n",
       "    </tr>\n",
       "    <tr>\n",
       "      <th>1997</th>\n",
       "      <td>55974.262309</td>\n",
       "    </tr>\n",
       "    <tr>\n",
       "      <th>1998</th>\n",
       "      <td>60285.821083</td>\n",
       "    </tr>\n",
       "    <tr>\n",
       "      <th>1999</th>\n",
       "      <td>65320.934441</td>\n",
       "    </tr>\n",
       "  </tbody>\n",
       "</table>\n",
       "</div>"
      ],
      "text/plain": [
       "                         Average_price\n",
       "London_Borough     Year               \n",
       "Barking & Dagenham 1995   51817.969390\n",
       "                   1996   51718.192690\n",
       "                   1997   55974.262309\n",
       "                   1998   60285.821083\n",
       "                   1999   65320.934441"
      ]
     },
     "execution_count": 49,
     "metadata": {},
     "output_type": "execute_result"
    }
   ],
   "source": [
    "dfg.head()"
   ]
  },
  {
   "cell_type": "code",
   "execution_count": 50,
   "metadata": {},
   "outputs": [
    {
     "data": {
      "text/html": [
       "<div>\n",
       "<style scoped>\n",
       "    .dataframe tbody tr th:only-of-type {\n",
       "        vertical-align: middle;\n",
       "    }\n",
       "\n",
       "    .dataframe tbody tr th {\n",
       "        vertical-align: top;\n",
       "    }\n",
       "\n",
       "    .dataframe thead th {\n",
       "        text-align: right;\n",
       "    }\n",
       "</style>\n",
       "<table border=\"1\" class=\"dataframe\">\n",
       "  <thead>\n",
       "    <tr style=\"text-align: right;\">\n",
       "      <th></th>\n",
       "      <th></th>\n",
       "      <th>Average_price</th>\n",
       "    </tr>\n",
       "    <tr>\n",
       "      <th>London_Borough</th>\n",
       "      <th>Year</th>\n",
       "      <th></th>\n",
       "    </tr>\n",
       "  </thead>\n",
       "  <tbody>\n",
       "    <tr>\n",
       "      <th>Harrow</th>\n",
       "      <th>2006</th>\n",
       "      <td>265447.963683</td>\n",
       "    </tr>\n",
       "    <tr>\n",
       "      <th>Waltham Forest</th>\n",
       "      <th>1995</th>\n",
       "      <td>61279.980463</td>\n",
       "    </tr>\n",
       "    <tr>\n",
       "      <th>Bromley</th>\n",
       "      <th>2016</th>\n",
       "      <td>428008.119983</td>\n",
       "    </tr>\n",
       "    <tr>\n",
       "      <th>Lewisham</th>\n",
       "      <th>2012</th>\n",
       "      <td>240571.973217</td>\n",
       "    </tr>\n",
       "    <tr>\n",
       "      <th>Brent</th>\n",
       "      <th>2015</th>\n",
       "      <td>440951.665383</td>\n",
       "    </tr>\n",
       "  </tbody>\n",
       "</table>\n",
       "</div>"
      ],
      "text/plain": [
       "                     Average_price\n",
       "London_Borough Year               \n",
       "Harrow         2006  265447.963683\n",
       "Waltham Forest 1995   61279.980463\n",
       "Bromley        2016  428008.119983\n",
       "Lewisham       2012  240571.973217\n",
       "Brent          2015  440951.665383"
      ]
     },
     "execution_count": 50,
     "metadata": {},
     "output_type": "execute_result"
    }
   ],
   "source": [
    "dfg.sample(5)"
   ]
  },
  {
   "cell_type": "code",
   "execution_count": 51,
   "metadata": {},
   "outputs": [],
   "source": [
    "dfg = dfg.reset_index()"
   ]
  },
  {
   "cell_type": "code",
   "execution_count": 52,
   "metadata": {},
   "outputs": [
    {
     "data": {
      "text/html": [
       "<div>\n",
       "<style scoped>\n",
       "    .dataframe tbody tr th:only-of-type {\n",
       "        vertical-align: middle;\n",
       "    }\n",
       "\n",
       "    .dataframe tbody tr th {\n",
       "        vertical-align: top;\n",
       "    }\n",
       "\n",
       "    .dataframe thead th {\n",
       "        text-align: right;\n",
       "    }\n",
       "</style>\n",
       "<table border=\"1\" class=\"dataframe\">\n",
       "  <thead>\n",
       "    <tr style=\"text-align: right;\">\n",
       "      <th></th>\n",
       "      <th>London_Borough</th>\n",
       "      <th>Year</th>\n",
       "      <th>Average_price</th>\n",
       "    </tr>\n",
       "  </thead>\n",
       "  <tbody>\n",
       "    <tr>\n",
       "      <th>0</th>\n",
       "      <td>Barking &amp; Dagenham</td>\n",
       "      <td>1995</td>\n",
       "      <td>51817.969390</td>\n",
       "    </tr>\n",
       "    <tr>\n",
       "      <th>1</th>\n",
       "      <td>Barking &amp; Dagenham</td>\n",
       "      <td>1996</td>\n",
       "      <td>51718.192690</td>\n",
       "    </tr>\n",
       "    <tr>\n",
       "      <th>2</th>\n",
       "      <td>Barking &amp; Dagenham</td>\n",
       "      <td>1997</td>\n",
       "      <td>55974.262309</td>\n",
       "    </tr>\n",
       "    <tr>\n",
       "      <th>3</th>\n",
       "      <td>Barking &amp; Dagenham</td>\n",
       "      <td>1998</td>\n",
       "      <td>60285.821083</td>\n",
       "    </tr>\n",
       "    <tr>\n",
       "      <th>4</th>\n",
       "      <td>Barking &amp; Dagenham</td>\n",
       "      <td>1999</td>\n",
       "      <td>65320.934441</td>\n",
       "    </tr>\n",
       "  </tbody>\n",
       "</table>\n",
       "</div>"
      ],
      "text/plain": [
       "       London_Borough  Year  Average_price\n",
       "0  Barking & Dagenham  1995   51817.969390\n",
       "1  Barking & Dagenham  1996   51718.192690\n",
       "2  Barking & Dagenham  1997   55974.262309\n",
       "3  Barking & Dagenham  1998   60285.821083\n",
       "4  Barking & Dagenham  1999   65320.934441"
      ]
     },
     "execution_count": 52,
     "metadata": {},
     "output_type": "execute_result"
    }
   ],
   "source": [
    "dfg.head()"
   ]
  },
  {
   "cell_type": "code",
   "execution_count": 53,
   "metadata": {
    "colab": {},
    "colab_type": "code",
    "id": "e0DF92cyqnu8"
   },
   "outputs": [],
   "source": [
    "#year_list = list(map(lambda date: date.year, df['Month']))\n",
    "#df['Year'] = year_list\n",
    "#df = df.reindex(columns=['London_Borough', 'ID', 'Year', 'Month', 'Average_price'])\n",
    "#df.head()"
   ]
  },
  {
   "cell_type": "markdown",
   "metadata": {
    "colab_type": "text",
    "id": "2knuTxAEqoJ4"
   },
   "source": [
    "**3. Modeling**\n",
    "\n",
    "Consider creating a function that will calculate a ratio of house prices, comparing the price of a house in 2018 to the price in 1998.\n",
    "\n",
    "Consider calling this function create_price_ratio.\n",
    "\n",
    "You'd want this function to:\n",
    "1. Take a filter of dfg, specifically where this filter constrains the London_Borough, as an argument. For example, one admissible argument should be: dfg[dfg['London_Borough']=='Camden'].\n",
    "2. Get the Average Price for that Borough, for the years 1998 and 2018.\n",
    "4. Calculate the ratio of the Average Price for 1998 divided by the Average Price for 2018.\n",
    "5. Return that ratio.\n",
    "\n",
    "Once you've written this function, you ultimately want to use it to iterate through all the unique London_Boroughs and work out the ratio capturing the difference of house prices between 1998 and 2018.\n",
    "\n",
    "Bear in mind: you don't have to write a function like this if you don't want to. If you can solve the brief otherwise, then great! \n",
    "\n",
    "***Hint***: This section should test the skills you acquired in:\n",
    "- Python Data Science Toolbox - Part One, all modules"
   ]
  },
  {
   "cell_type": "code",
   "execution_count": 54,
   "metadata": {},
   "outputs": [],
   "source": [
    "def create_price_ratio(d):\n",
    "    y1998 = float(d['Average_price'][d['Year']==1998])\n",
    "    y2018 = float(d['Average_price'][d['Year']==2018])\n",
    "    ratio = [y2018/y1998]\n",
    "    return ratio"
   ]
  },
  {
   "cell_type": "code",
   "execution_count": 55,
   "metadata": {},
   "outputs": [
    {
     "name": "stderr",
     "output_type": "stream",
     "text": [
      "C:\\Users\\Owner\\AppData\\Local\\Temp\\ipykernel_16572\\3139199646.py:2: FutureWarning: Calling float on a single element Series is deprecated and will raise a TypeError in the future. Use float(ser.iloc[0]) instead\n",
      "  y1998 = float(d['Average_price'][d['Year']==1998])\n",
      "C:\\Users\\Owner\\AppData\\Local\\Temp\\ipykernel_16572\\3139199646.py:3: FutureWarning: Calling float on a single element Series is deprecated and will raise a TypeError in the future. Use float(ser.iloc[0]) instead\n",
      "  y2018 = float(d['Average_price'][d['Year']==2018])\n"
     ]
    },
    {
     "data": {
      "text/plain": [
       "[4.8945544971392865]"
      ]
     },
     "execution_count": 55,
     "metadata": {},
     "output_type": "execute_result"
    }
   ],
   "source": [
    "create_price_ratio(dfg[dfg['London_Borough']=='Brent'])"
   ]
  },
  {
   "cell_type": "code",
   "execution_count": 56,
   "metadata": {},
   "outputs": [
    {
     "name": "stderr",
     "output_type": "stream",
     "text": [
      "C:\\Users\\Owner\\AppData\\Local\\Temp\\ipykernel_16572\\3139199646.py:2: FutureWarning: Calling float on a single element Series is deprecated and will raise a TypeError in the future. Use float(ser.iloc[0]) instead\n",
      "  y1998 = float(d['Average_price'][d['Year']==1998])\n",
      "C:\\Users\\Owner\\AppData\\Local\\Temp\\ipykernel_16572\\3139199646.py:3: FutureWarning: Calling float on a single element Series is deprecated and will raise a TypeError in the future. Use float(ser.iloc[0]) instead\n",
      "  y2018 = float(d['Average_price'][d['Year']==2018])\n"
     ]
    }
   ],
   "source": [
    "final = {}\n",
    "for b in dfg['London_Borough'].unique(): \n",
    "    borough = dfg[dfg['London_Borough'] == b]\n",
    "    final[b] = create_price_ratio(borough)"
   ]
  },
  {
   "cell_type": "code",
   "execution_count": 57,
   "metadata": {},
   "outputs": [
    {
     "name": "stdout",
     "output_type": "stream",
     "text": [
      "{'Barking & Dagenham': [4.89661861291754], 'Barnet': [4.358195917538044], 'Bexley': [4.248977046127877], 'Brent': [4.8945544971392865], 'Bromley': [4.094784685333876], 'Camden': [4.935353408884261], 'City of London': [5.30162037758761], 'Croydon': [4.201100280024766], 'Ealing': [4.311450902121834], 'Enfield': [4.263471583495811], 'Greenwich': [4.7630363473291935], 'Hackney': [6.198285561008663], 'Hammersmith & Fulham': [4.13779810193623], 'Haringey': [5.134624964136042], 'Harrow': [4.0591964329643195], 'Havering': [4.325230371335307], 'Hillingdon': [4.2002730803844575], 'Hounslow': [3.976409106143329], 'Islington': [4.844048012802297], 'Kensington & Chelsea': [5.082465066092464], 'Kingston upon Thames': [4.270549521484271], 'Lambeth': [4.957751163514062], 'Lewisham': [5.449221041059686], 'Merton': [4.741273313294603], 'Newham': [5.305390437201879], 'Redbridge': [4.471182006097364], 'Richmond upon Thames': [4.005161895721457], 'Southwark': [5.516485302379378], 'Sutton': [4.118522608573157], 'Tower Hamlets': [4.62670104006116], 'Waltham Forest': [5.83475580932281], 'Wandsworth': [4.75770934773927], 'Westminster': [5.353565392605412]}\n"
     ]
    }
   ],
   "source": [
    "print(final)"
   ]
  },
  {
   "cell_type": "code",
   "execution_count": 58,
   "metadata": {},
   "outputs": [],
   "source": [
    "df_ratios = pd.DataFrame(final)"
   ]
  },
  {
   "cell_type": "code",
   "execution_count": 59,
   "metadata": {},
   "outputs": [
    {
     "data": {
      "text/html": [
       "<div>\n",
       "<style scoped>\n",
       "    .dataframe tbody tr th:only-of-type {\n",
       "        vertical-align: middle;\n",
       "    }\n",
       "\n",
       "    .dataframe tbody tr th {\n",
       "        vertical-align: top;\n",
       "    }\n",
       "\n",
       "    .dataframe thead th {\n",
       "        text-align: right;\n",
       "    }\n",
       "</style>\n",
       "<table border=\"1\" class=\"dataframe\">\n",
       "  <thead>\n",
       "    <tr style=\"text-align: right;\">\n",
       "      <th></th>\n",
       "      <th>Barking &amp; Dagenham</th>\n",
       "      <th>Barnet</th>\n",
       "      <th>Bexley</th>\n",
       "      <th>Brent</th>\n",
       "      <th>Bromley</th>\n",
       "      <th>Camden</th>\n",
       "      <th>City of London</th>\n",
       "      <th>Croydon</th>\n",
       "      <th>Ealing</th>\n",
       "      <th>Enfield</th>\n",
       "      <th>...</th>\n",
       "      <th>Merton</th>\n",
       "      <th>Newham</th>\n",
       "      <th>Redbridge</th>\n",
       "      <th>Richmond upon Thames</th>\n",
       "      <th>Southwark</th>\n",
       "      <th>Sutton</th>\n",
       "      <th>Tower Hamlets</th>\n",
       "      <th>Waltham Forest</th>\n",
       "      <th>Wandsworth</th>\n",
       "      <th>Westminster</th>\n",
       "    </tr>\n",
       "  </thead>\n",
       "  <tbody>\n",
       "    <tr>\n",
       "      <th>0</th>\n",
       "      <td>4.896619</td>\n",
       "      <td>4.358196</td>\n",
       "      <td>4.248977</td>\n",
       "      <td>4.894554</td>\n",
       "      <td>4.094785</td>\n",
       "      <td>4.935353</td>\n",
       "      <td>5.30162</td>\n",
       "      <td>4.2011</td>\n",
       "      <td>4.311451</td>\n",
       "      <td>4.263472</td>\n",
       "      <td>...</td>\n",
       "      <td>4.741273</td>\n",
       "      <td>5.30539</td>\n",
       "      <td>4.471182</td>\n",
       "      <td>4.005162</td>\n",
       "      <td>5.516485</td>\n",
       "      <td>4.118523</td>\n",
       "      <td>4.626701</td>\n",
       "      <td>5.834756</td>\n",
       "      <td>4.757709</td>\n",
       "      <td>5.353565</td>\n",
       "    </tr>\n",
       "  </tbody>\n",
       "</table>\n",
       "<p>1 rows × 33 columns</p>\n",
       "</div>"
      ],
      "text/plain": [
       "   Barking & Dagenham    Barnet    Bexley     Brent   Bromley    Camden  \\\n",
       "0            4.896619  4.358196  4.248977  4.894554  4.094785  4.935353   \n",
       "\n",
       "   City of London  Croydon    Ealing   Enfield  ...    Merton   Newham  \\\n",
       "0         5.30162   4.2011  4.311451  4.263472  ...  4.741273  5.30539   \n",
       "\n",
       "   Redbridge  Richmond upon Thames  Southwark    Sutton  Tower Hamlets  \\\n",
       "0   4.471182              4.005162   5.516485  4.118523       4.626701   \n",
       "\n",
       "   Waltham Forest  Wandsworth  Westminster  \n",
       "0        5.834756    4.757709     5.353565  \n",
       "\n",
       "[1 rows x 33 columns]"
      ]
     },
     "execution_count": 59,
     "metadata": {},
     "output_type": "execute_result"
    }
   ],
   "source": [
    "df_ratios.head()"
   ]
  },
  {
   "cell_type": "code",
   "execution_count": 60,
   "metadata": {},
   "outputs": [],
   "source": [
    "df_ratios_T = df_ratios.T\n",
    "df_ratios = df_ratios_T.reset_index()\n",
    "df_ratios.head()"
   ]
  },
  {
   "cell_type": "code",
   "execution_count": 62,
   "metadata": {},
   "outputs": [
    {
     "data": {
      "text/html": [
       "<div>\n",
       "<style scoped>\n",
       "    .dataframe tbody tr th:only-of-type {\n",
       "        vertical-align: middle;\n",
       "    }\n",
       "\n",
       "    .dataframe tbody tr th {\n",
       "        vertical-align: top;\n",
       "    }\n",
       "\n",
       "    .dataframe thead th {\n",
       "        text-align: right;\n",
       "    }\n",
       "</style>\n",
       "<table border=\"1\" class=\"dataframe\">\n",
       "  <thead>\n",
       "    <tr style=\"text-align: right;\">\n",
       "      <th></th>\n",
       "      <th>Borough</th>\n",
       "      <th>2018</th>\n",
       "    </tr>\n",
       "  </thead>\n",
       "  <tbody>\n",
       "    <tr>\n",
       "      <th>0</th>\n",
       "      <td>Barking &amp; Dagenham</td>\n",
       "      <td>4.896619</td>\n",
       "    </tr>\n",
       "    <tr>\n",
       "      <th>1</th>\n",
       "      <td>Barnet</td>\n",
       "      <td>4.358196</td>\n",
       "    </tr>\n",
       "    <tr>\n",
       "      <th>2</th>\n",
       "      <td>Bexley</td>\n",
       "      <td>4.248977</td>\n",
       "    </tr>\n",
       "    <tr>\n",
       "      <th>3</th>\n",
       "      <td>Brent</td>\n",
       "      <td>4.894554</td>\n",
       "    </tr>\n",
       "    <tr>\n",
       "      <th>4</th>\n",
       "      <td>Bromley</td>\n",
       "      <td>4.094785</td>\n",
       "    </tr>\n",
       "  </tbody>\n",
       "</table>\n",
       "</div>"
      ],
      "text/plain": [
       "              Borough      2018\n",
       "0  Barking & Dagenham  4.896619\n",
       "1              Barnet  4.358196\n",
       "2              Bexley  4.248977\n",
       "3               Brent  4.894554\n",
       "4             Bromley  4.094785"
      ]
     },
     "execution_count": 62,
     "metadata": {},
     "output_type": "execute_result"
    }
   ],
   "source": [
    "df_ratios.rename(columns={'index':'Borough', 0:'2018'}, inplace=True)\n",
    "df_ratios.head()"
   ]
  },
  {
   "cell_type": "code",
   "execution_count": 63,
   "metadata": {},
   "outputs": [],
   "source": [
    "top15 = df_ratios.sort_values(by='2018', ascending=False).head(15)"
   ]
  },
  {
   "cell_type": "code",
   "execution_count": 64,
   "metadata": {},
   "outputs": [
    {
     "name": "stdout",
     "output_type": "stream",
     "text": [
      "                 Borough      2018\n",
      "11               Hackney  6.198286\n",
      "30        Waltham Forest  5.834756\n",
      "27             Southwark  5.516485\n",
      "22              Lewisham  5.449221\n",
      "32           Westminster  5.353565\n",
      "24                Newham  5.305390\n",
      "6         City of London  5.301620\n",
      "13              Haringey  5.134625\n",
      "19  Kensington & Chelsea  5.082465\n",
      "21               Lambeth  4.957751\n",
      "5                 Camden  4.935353\n",
      "0     Barking & Dagenham  4.896619\n",
      "3                  Brent  4.894554\n",
      "18             Islington  4.844048\n",
      "10             Greenwich  4.763036\n"
     ]
    }
   ],
   "source": [
    "print(top15)"
   ]
  },
  {
   "cell_type": "code",
   "execution_count": 65,
   "metadata": {},
   "outputs": [
    {
     "data": {
      "text/plain": [
       "[Text(0, 0, 'Hackney'),\n",
       " Text(1, 0, 'Waltham Forest'),\n",
       " Text(2, 0, 'Southwark'),\n",
       " Text(3, 0, 'Lewisham'),\n",
       " Text(4, 0, 'Westminster'),\n",
       " Text(5, 0, 'Newham'),\n",
       " Text(6, 0, 'City of London'),\n",
       " Text(7, 0, 'Haringey'),\n",
       " Text(8, 0, 'Kensington & Chelsea'),\n",
       " Text(9, 0, 'Lambeth'),\n",
       " Text(10, 0, 'Camden'),\n",
       " Text(11, 0, 'Barking & Dagenham'),\n",
       " Text(12, 0, 'Brent'),\n",
       " Text(13, 0, 'Islington'),\n",
       " Text(14, 0, 'Greenwich')]"
      ]
     },
     "execution_count": 65,
     "metadata": {},
     "output_type": "execute_result"
    },
    {
     "data": {
      "image/png": "[encoded data removed]",
      "text/plain": [
       "<Figure size 640x480 with 1 Axes>"
      ]
     },
     "metadata": {},
     "output_type": "display_data"
    }
   ],
   "source": [
    "ax = top15[['Borough','2018']].plot(kind='bar')\n",
    "\n",
    "ax.set_xticklabels(top15.Borough)"
   ]
  },
  {
   "cell_type": "code",
   "execution_count": 66,
   "metadata": {
    "colab": {},
    "colab_type": "code",
    "id": "cKTyr437UgDa"
   },
   "outputs": [],
   "source": [
    "#def create_price_ratio(London_Borough):\n",
    "#    borough_prices = melted[melted['Borough']  == London_Borough]\n",
    "#    #print(borough_prices)\n",
    "    \n",
    "    #annual_ave_price = borough_prices.groupby('Year')['Average Price'].mean()\n",
    "    #annual_ave_price = annual_ave_price.to_frame()\n",
    "    #return annual_ave_price\n",
    "    \n",
    "    #ave_price_1998 = annual_ave_price.loc[1998]\n",
    "    #ave_price_1998 = annual_ave_price[annual_ave_price['Year'] == 1998]\n",
    "    #print(ave_price_1998)\n",
    "    #ave_price_2018 = annual_ave_price.loc[2018]\n",
    "    #ave_price_2018 = annual_ave_price[annual_ave_price['Year'] == 2018]\n",
    "    #print(ave_price_2018)\n",
    "    \n",
    "    #ratio_2018_to_1998 = ave_price_2018 / ave_price_1998\n",
    "    #return ratio_2018_to_1998\n",
    "\n",
    "#create_price_ratio('Brent')"
   ]
  },
  {
   "cell_type": "code",
   "execution_count": 67,
   "metadata": {
    "scrolled": true
   },
   "outputs": [],
   "source": [
    "#for borough in properties['Borough']:\n",
    "    #print(borough, create_price_ratio(borough))"
   ]
  },
  {
   "cell_type": "markdown",
   "metadata": {
    "colab_type": "text",
    "id": "NzYUI7FxJpgv"
   },
   "source": [
    "### 4. Conclusion\n",
    "What can you conclude? Type out your conclusion below. \n",
    "\n",
    "Look back at your notebook. Think about how you might summarize what you have done, and prepare a quick presentation on it to your mentor at your next meeting. \n",
    "\n",
    "We hope you enjoyed this practical project. It should have consolidated your data hygiene and pandas skills by looking at a real-world problem involving just the kind of dataset you might encounter as a budding data scientist. Congratulations, and looking forward to seeing you at the next step in the course! "
   ]
  }
 ],
 "metadata": {
  "colab": {
   "collapsed_sections": [],
   "name": "Springboard Data Science Career Track Unit 4 Challenge - Tier 3 Complete .ipynb",
   "provenance": []
  },
  "kernelspec": {
   "display_name": "Python 3 (ipykernel)",
   "language": "python",
   "name": "python3"
  },
  "language_info": {
   "codemirror_mode": {
    "name": "ipython",
    "version": 3
   },
   "file_extension": ".py",
   "mimetype": "text/x-python",
   "name": "python",
   "nbconvert_exporter": "python",
   "pygments_lexer": "ipython3",
   "version": "3.12.4"
  }
 },
 "nbformat": 4,
 "nbformat_minor": 4
}
